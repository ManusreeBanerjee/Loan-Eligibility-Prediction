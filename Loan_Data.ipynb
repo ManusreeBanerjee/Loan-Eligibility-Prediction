{
  "nbformat": 4,
  "nbformat_minor": 0,
  "metadata": {
    "colab": {
      "name": "Loan Data.ipynb",
      "provenance": []
    },
    "kernelspec": {
      "name": "python3",
      "display_name": "Python 3"
    },
    "language_info": {
      "name": "python"
    }
  },
  "cells": [
    {
      "cell_type": "markdown",
      "metadata": {
        "id": "kWNTbAPk-xcG"
      },
      "source": [
        "## Perform Exploratory Data Analysis on the data set\n",
        "\n",
        "### I- Assessing\n",
        "In this stage we display the data we're going to import to assess its Quality and Tidiness.\n",
        "\n",
        "Quality dimensions or aspects are mainly:\n",
        "\n",
        "**1**- Completness (checking if there are any missing records).\n",
        "\n",
        "**2**- Validity (Checking if the values displayed are 'valid' i.e data that follow certain known rules)\n",
        "\n",
        "**3**- Accuracy (a significant decrease or increase in a value is considered an 'inaccurate data')\n",
        "\n",
        "**4**- Consistency (There should be only one way to represent or refer to a value otherwise the data is called to be 'inconsistent')"
      ]
    },
    {
      "cell_type": "code",
      "source": [
        "import pandas as pd\n",
        "import matplotlib.pyplot as plt\n",
        "import seaborn as sns\n",
        "import math\n",
        "import numpy as np\n",
        "data =pd.read_csv('loansData.csv')\n",
        "data.shape"
      ],
      "metadata": {
        "colab": {
          "base_uri": "https://localhost:8080/"
        },
        "id": "OhaX7pT0QMQt",
        "outputId": "9cfdae69-19f3-482c-bd46-735e44cdb188"
      },
      "execution_count": 115,
      "outputs": [
        {
          "output_type": "execute_result",
          "data": {
            "text/plain": [
              "(2500, 15)"
            ]
          },
          "metadata": {},
          "execution_count": 115
        }
      ]
    },
    {
      "cell_type": "code",
      "source": [
        "data.info()"
      ],
      "metadata": {
        "colab": {
          "base_uri": "https://localhost:8080/"
        },
        "id": "Ho2XAskzQYGH",
        "outputId": "dc8ecd9a-1499-441d-dc29-590d7849a207"
      },
      "execution_count": 116,
      "outputs": [
        {
          "output_type": "stream",
          "name": "stdout",
          "text": [
            "<class 'pandas.core.frame.DataFrame'>\n",
            "RangeIndex: 2500 entries, 0 to 2499\n",
            "Data columns (total 15 columns):\n",
            " #   Column                          Non-Null Count  Dtype  \n",
            "---  ------                          --------------  -----  \n",
            " 0   CustID                          2500 non-null   int64  \n",
            " 1   Amount.Requested                2500 non-null   int64  \n",
            " 2   Amount.Funded.By.Investors      2500 non-null   float64\n",
            " 3   Interest.Rate                   2500 non-null   object \n",
            " 4   Loan.Length                     2500 non-null   object \n",
            " 5   Loan.Purpose                    2500 non-null   object \n",
            " 6   Debt.To.Income.Ratio            2500 non-null   object \n",
            " 7   State                           2500 non-null   object \n",
            " 8   Home.Ownership                  2500 non-null   object \n",
            " 9   Monthly.Income                  2499 non-null   float64\n",
            " 10  FICO.Range                      2500 non-null   object \n",
            " 11  Open.CREDIT.Lines               2498 non-null   float64\n",
            " 12  Revolving.CREDIT.Balance        2498 non-null   float64\n",
            " 13  Inquiries.in.the.Last.6.Months  2498 non-null   float64\n",
            " 14  Employment.Length               2423 non-null   object \n",
            "dtypes: float64(5), int64(2), object(8)\n",
            "memory usage: 293.1+ KB\n"
          ]
        }
      ]
    },
    {
      "cell_type": "code",
      "source": [
        "data.head(5)"
      ],
      "metadata": {
        "colab": {
          "base_uri": "https://localhost:8080/",
          "height": 270
        },
        "id": "fIdOWbHoQaNi",
        "outputId": "d7f87316-c647-4208-92d7-efed8878621b"
      },
      "execution_count": 117,
      "outputs": [
        {
          "output_type": "execute_result",
          "data": {
            "text/plain": [
              "   CustID  Amount.Requested  Amount.Funded.By.Investors Interest.Rate  \\\n",
              "0   81174             20000                     20000.0         8.90%   \n",
              "1   99592             19200                     19200.0        12.12%   \n",
              "2   80059             35000                     35000.0        21.98%   \n",
              "3   15825             10000                      9975.0         9.99%   \n",
              "4   33182             12000                     12000.0        11.71%   \n",
              "\n",
              "  Loan.Length        Loan.Purpose Debt.To.Income.Ratio State Home.Ownership  \\\n",
              "0   36 months  debt_consolidation               14.90%    SC       MORTGAGE   \n",
              "1   36 months  debt_consolidation               28.36%    TX       MORTGAGE   \n",
              "2   60 months  debt_consolidation               23.81%    CA       MORTGAGE   \n",
              "3   36 months  debt_consolidation               14.30%    KS       MORTGAGE   \n",
              "4   36 months         credit_card               18.78%    NJ           RENT   \n",
              "\n",
              "   Monthly.Income FICO.Range  Open.CREDIT.Lines  Revolving.CREDIT.Balance  \\\n",
              "0         6541.67    735-739               14.0                   14272.0   \n",
              "1         4583.33    715-719               12.0                   11140.0   \n",
              "2        11500.00    690-694               14.0                   21977.0   \n",
              "3         3833.33    695-699               10.0                    9346.0   \n",
              "4         3195.00    695-699               11.0                   14469.0   \n",
              "\n",
              "   Inquiries.in.the.Last.6.Months Employment.Length  \n",
              "0                             2.0          < 1 year  \n",
              "1                             1.0           2 years  \n",
              "2                             1.0           2 years  \n",
              "3                             0.0           5 years  \n",
              "4                             0.0           9 years  "
            ],
            "text/html": [
              "\n",
              "  <div id=\"df-d82eeffd-b96e-4856-a5b8-08c7638fc6bb\">\n",
              "    <div class=\"colab-df-container\">\n",
              "      <div>\n",
              "<style scoped>\n",
              "    .dataframe tbody tr th:only-of-type {\n",
              "        vertical-align: middle;\n",
              "    }\n",
              "\n",
              "    .dataframe tbody tr th {\n",
              "        vertical-align: top;\n",
              "    }\n",
              "\n",
              "    .dataframe thead th {\n",
              "        text-align: right;\n",
              "    }\n",
              "</style>\n",
              "<table border=\"1\" class=\"dataframe\">\n",
              "  <thead>\n",
              "    <tr style=\"text-align: right;\">\n",
              "      <th></th>\n",
              "      <th>CustID</th>\n",
              "      <th>Amount.Requested</th>\n",
              "      <th>Amount.Funded.By.Investors</th>\n",
              "      <th>Interest.Rate</th>\n",
              "      <th>Loan.Length</th>\n",
              "      <th>Loan.Purpose</th>\n",
              "      <th>Debt.To.Income.Ratio</th>\n",
              "      <th>State</th>\n",
              "      <th>Home.Ownership</th>\n",
              "      <th>Monthly.Income</th>\n",
              "      <th>FICO.Range</th>\n",
              "      <th>Open.CREDIT.Lines</th>\n",
              "      <th>Revolving.CREDIT.Balance</th>\n",
              "      <th>Inquiries.in.the.Last.6.Months</th>\n",
              "      <th>Employment.Length</th>\n",
              "    </tr>\n",
              "  </thead>\n",
              "  <tbody>\n",
              "    <tr>\n",
              "      <th>0</th>\n",
              "      <td>81174</td>\n",
              "      <td>20000</td>\n",
              "      <td>20000.0</td>\n",
              "      <td>8.90%</td>\n",
              "      <td>36 months</td>\n",
              "      <td>debt_consolidation</td>\n",
              "      <td>14.90%</td>\n",
              "      <td>SC</td>\n",
              "      <td>MORTGAGE</td>\n",
              "      <td>6541.67</td>\n",
              "      <td>735-739</td>\n",
              "      <td>14.0</td>\n",
              "      <td>14272.0</td>\n",
              "      <td>2.0</td>\n",
              "      <td>&lt; 1 year</td>\n",
              "    </tr>\n",
              "    <tr>\n",
              "      <th>1</th>\n",
              "      <td>99592</td>\n",
              "      <td>19200</td>\n",
              "      <td>19200.0</td>\n",
              "      <td>12.12%</td>\n",
              "      <td>36 months</td>\n",
              "      <td>debt_consolidation</td>\n",
              "      <td>28.36%</td>\n",
              "      <td>TX</td>\n",
              "      <td>MORTGAGE</td>\n",
              "      <td>4583.33</td>\n",
              "      <td>715-719</td>\n",
              "      <td>12.0</td>\n",
              "      <td>11140.0</td>\n",
              "      <td>1.0</td>\n",
              "      <td>2 years</td>\n",
              "    </tr>\n",
              "    <tr>\n",
              "      <th>2</th>\n",
              "      <td>80059</td>\n",
              "      <td>35000</td>\n",
              "      <td>35000.0</td>\n",
              "      <td>21.98%</td>\n",
              "      <td>60 months</td>\n",
              "      <td>debt_consolidation</td>\n",
              "      <td>23.81%</td>\n",
              "      <td>CA</td>\n",
              "      <td>MORTGAGE</td>\n",
              "      <td>11500.00</td>\n",
              "      <td>690-694</td>\n",
              "      <td>14.0</td>\n",
              "      <td>21977.0</td>\n",
              "      <td>1.0</td>\n",
              "      <td>2 years</td>\n",
              "    </tr>\n",
              "    <tr>\n",
              "      <th>3</th>\n",
              "      <td>15825</td>\n",
              "      <td>10000</td>\n",
              "      <td>9975.0</td>\n",
              "      <td>9.99%</td>\n",
              "      <td>36 months</td>\n",
              "      <td>debt_consolidation</td>\n",
              "      <td>14.30%</td>\n",
              "      <td>KS</td>\n",
              "      <td>MORTGAGE</td>\n",
              "      <td>3833.33</td>\n",
              "      <td>695-699</td>\n",
              "      <td>10.0</td>\n",
              "      <td>9346.0</td>\n",
              "      <td>0.0</td>\n",
              "      <td>5 years</td>\n",
              "    </tr>\n",
              "    <tr>\n",
              "      <th>4</th>\n",
              "      <td>33182</td>\n",
              "      <td>12000</td>\n",
              "      <td>12000.0</td>\n",
              "      <td>11.71%</td>\n",
              "      <td>36 months</td>\n",
              "      <td>credit_card</td>\n",
              "      <td>18.78%</td>\n",
              "      <td>NJ</td>\n",
              "      <td>RENT</td>\n",
              "      <td>3195.00</td>\n",
              "      <td>695-699</td>\n",
              "      <td>11.0</td>\n",
              "      <td>14469.0</td>\n",
              "      <td>0.0</td>\n",
              "      <td>9 years</td>\n",
              "    </tr>\n",
              "  </tbody>\n",
              "</table>\n",
              "</div>\n",
              "      <button class=\"colab-df-convert\" onclick=\"convertToInteractive('df-d82eeffd-b96e-4856-a5b8-08c7638fc6bb')\"\n",
              "              title=\"Convert this dataframe to an interactive table.\"\n",
              "              style=\"display:none;\">\n",
              "        \n",
              "  <svg xmlns=\"http://www.w3.org/2000/svg\" height=\"24px\"viewBox=\"0 0 24 24\"\n",
              "       width=\"24px\">\n",
              "    <path d=\"M0 0h24v24H0V0z\" fill=\"none\"/>\n",
              "    <path d=\"M18.56 5.44l.94 2.06.94-2.06 2.06-.94-2.06-.94-.94-2.06-.94 2.06-2.06.94zm-11 1L8.5 8.5l.94-2.06 2.06-.94-2.06-.94L8.5 2.5l-.94 2.06-2.06.94zm10 10l.94 2.06.94-2.06 2.06-.94-2.06-.94-.94-2.06-.94 2.06-2.06.94z\"/><path d=\"M17.41 7.96l-1.37-1.37c-.4-.4-.92-.59-1.43-.59-.52 0-1.04.2-1.43.59L10.3 9.45l-7.72 7.72c-.78.78-.78 2.05 0 2.83L4 21.41c.39.39.9.59 1.41.59.51 0 1.02-.2 1.41-.59l7.78-7.78 2.81-2.81c.8-.78.8-2.07 0-2.86zM5.41 20L4 18.59l7.72-7.72 1.47 1.35L5.41 20z\"/>\n",
              "  </svg>\n",
              "      </button>\n",
              "      \n",
              "  <style>\n",
              "    .colab-df-container {\n",
              "      display:flex;\n",
              "      flex-wrap:wrap;\n",
              "      gap: 12px;\n",
              "    }\n",
              "\n",
              "    .colab-df-convert {\n",
              "      background-color: #E8F0FE;\n",
              "      border: none;\n",
              "      border-radius: 50%;\n",
              "      cursor: pointer;\n",
              "      display: none;\n",
              "      fill: #1967D2;\n",
              "      height: 32px;\n",
              "      padding: 0 0 0 0;\n",
              "      width: 32px;\n",
              "    }\n",
              "\n",
              "    .colab-df-convert:hover {\n",
              "      background-color: #E2EBFA;\n",
              "      box-shadow: 0px 1px 2px rgba(60, 64, 67, 0.3), 0px 1px 3px 1px rgba(60, 64, 67, 0.15);\n",
              "      fill: #174EA6;\n",
              "    }\n",
              "\n",
              "    [theme=dark] .colab-df-convert {\n",
              "      background-color: #3B4455;\n",
              "      fill: #D2E3FC;\n",
              "    }\n",
              "\n",
              "    [theme=dark] .colab-df-convert:hover {\n",
              "      background-color: #434B5C;\n",
              "      box-shadow: 0px 1px 3px 1px rgba(0, 0, 0, 0.15);\n",
              "      filter: drop-shadow(0px 1px 2px rgba(0, 0, 0, 0.3));\n",
              "      fill: #FFFFFF;\n",
              "    }\n",
              "  </style>\n",
              "\n",
              "      <script>\n",
              "        const buttonEl =\n",
              "          document.querySelector('#df-d82eeffd-b96e-4856-a5b8-08c7638fc6bb button.colab-df-convert');\n",
              "        buttonEl.style.display =\n",
              "          google.colab.kernel.accessAllowed ? 'block' : 'none';\n",
              "\n",
              "        async function convertToInteractive(key) {\n",
              "          const element = document.querySelector('#df-d82eeffd-b96e-4856-a5b8-08c7638fc6bb');\n",
              "          const dataTable =\n",
              "            await google.colab.kernel.invokeFunction('convertToInteractive',\n",
              "                                                     [key], {});\n",
              "          if (!dataTable) return;\n",
              "\n",
              "          const docLinkHtml = 'Like what you see? Visit the ' +\n",
              "            '<a target=\"_blank\" href=https://colab.research.google.com/notebooks/data_table.ipynb>data table notebook</a>'\n",
              "            + ' to learn more about interactive tables.';\n",
              "          element.innerHTML = '';\n",
              "          dataTable['output_type'] = 'display_data';\n",
              "          await google.colab.output.renderOutput(dataTable, element);\n",
              "          const docLink = document.createElement('div');\n",
              "          docLink.innerHTML = docLinkHtml;\n",
              "          element.appendChild(docLink);\n",
              "        }\n",
              "      </script>\n",
              "    </div>\n",
              "  </div>\n",
              "  "
            ]
          },
          "metadata": {},
          "execution_count": 117
        }
      ]
    },
    {
      "cell_type": "code",
      "source": [
        "data.tail(5)"
      ],
      "metadata": {
        "colab": {
          "base_uri": "https://localhost:8080/",
          "height": 270
        },
        "id": "uSC33DXeQeCR",
        "outputId": "1c173189-4724-487c-bd39-b30632df7362"
      },
      "execution_count": 118,
      "outputs": [
        {
          "output_type": "execute_result",
          "data": {
            "text/plain": [
              "      CustID  Amount.Requested  Amount.Funded.By.Investors Interest.Rate  \\\n",
              "2495   23735             30000                    29950.00        16.77%   \n",
              "2496   65882             16000                    16000.00        14.09%   \n",
              "2497   55610             10000                    10000.00        13.99%   \n",
              "2498   38576              6000                     6000.00        12.42%   \n",
              "2499    3116              9000                     5242.75        13.79%   \n",
              "\n",
              "     Loan.Length        Loan.Purpose Debt.To.Income.Ratio State  \\\n",
              "2495   60 months  debt_consolidation               19.23%    NY   \n",
              "2496   60 months    home_improvement               21.54%    MD   \n",
              "2497   36 months  debt_consolidation                4.89%    PA   \n",
              "2498   36 months      major_purchase               16.66%    NJ   \n",
              "2499   36 months  debt_consolidation                6.76%    NY   \n",
              "\n",
              "     Home.Ownership  Monthly.Income FICO.Range  Open.CREDIT.Lines  \\\n",
              "2495       MORTGAGE         9250.00    705-709               15.0   \n",
              "2496            OWN         8903.25    740-744               18.0   \n",
              "2497       MORTGAGE         2166.67    680-684                4.0   \n",
              "2498           RENT         3500.00    675-679                8.0   \n",
              "2499           RENT         3875.00    670-674                7.0   \n",
              "\n",
              "      Revolving.CREDIT.Balance  Inquiries.in.the.Last.6.Months  \\\n",
              "2495                   45880.0                             1.0   \n",
              "2496                   18898.0                             1.0   \n",
              "2497                    4544.0                             0.0   \n",
              "2498                    7753.0                             0.0   \n",
              "2499                    7589.0                             0.0   \n",
              "\n",
              "     Employment.Length  \n",
              "2495           8 years  \n",
              "2496         10+ years  \n",
              "2497         10+ years  \n",
              "2498           5 years  \n",
              "2499         10+ years  "
            ],
            "text/html": [
              "\n",
              "  <div id=\"df-6e7e9680-7c83-494c-b730-5d55ac2d6741\">\n",
              "    <div class=\"colab-df-container\">\n",
              "      <div>\n",
              "<style scoped>\n",
              "    .dataframe tbody tr th:only-of-type {\n",
              "        vertical-align: middle;\n",
              "    }\n",
              "\n",
              "    .dataframe tbody tr th {\n",
              "        vertical-align: top;\n",
              "    }\n",
              "\n",
              "    .dataframe thead th {\n",
              "        text-align: right;\n",
              "    }\n",
              "</style>\n",
              "<table border=\"1\" class=\"dataframe\">\n",
              "  <thead>\n",
              "    <tr style=\"text-align: right;\">\n",
              "      <th></th>\n",
              "      <th>CustID</th>\n",
              "      <th>Amount.Requested</th>\n",
              "      <th>Amount.Funded.By.Investors</th>\n",
              "      <th>Interest.Rate</th>\n",
              "      <th>Loan.Length</th>\n",
              "      <th>Loan.Purpose</th>\n",
              "      <th>Debt.To.Income.Ratio</th>\n",
              "      <th>State</th>\n",
              "      <th>Home.Ownership</th>\n",
              "      <th>Monthly.Income</th>\n",
              "      <th>FICO.Range</th>\n",
              "      <th>Open.CREDIT.Lines</th>\n",
              "      <th>Revolving.CREDIT.Balance</th>\n",
              "      <th>Inquiries.in.the.Last.6.Months</th>\n",
              "      <th>Employment.Length</th>\n",
              "    </tr>\n",
              "  </thead>\n",
              "  <tbody>\n",
              "    <tr>\n",
              "      <th>2495</th>\n",
              "      <td>23735</td>\n",
              "      <td>30000</td>\n",
              "      <td>29950.00</td>\n",
              "      <td>16.77%</td>\n",
              "      <td>60 months</td>\n",
              "      <td>debt_consolidation</td>\n",
              "      <td>19.23%</td>\n",
              "      <td>NY</td>\n",
              "      <td>MORTGAGE</td>\n",
              "      <td>9250.00</td>\n",
              "      <td>705-709</td>\n",
              "      <td>15.0</td>\n",
              "      <td>45880.0</td>\n",
              "      <td>1.0</td>\n",
              "      <td>8 years</td>\n",
              "    </tr>\n",
              "    <tr>\n",
              "      <th>2496</th>\n",
              "      <td>65882</td>\n",
              "      <td>16000</td>\n",
              "      <td>16000.00</td>\n",
              "      <td>14.09%</td>\n",
              "      <td>60 months</td>\n",
              "      <td>home_improvement</td>\n",
              "      <td>21.54%</td>\n",
              "      <td>MD</td>\n",
              "      <td>OWN</td>\n",
              "      <td>8903.25</td>\n",
              "      <td>740-744</td>\n",
              "      <td>18.0</td>\n",
              "      <td>18898.0</td>\n",
              "      <td>1.0</td>\n",
              "      <td>10+ years</td>\n",
              "    </tr>\n",
              "    <tr>\n",
              "      <th>2497</th>\n",
              "      <td>55610</td>\n",
              "      <td>10000</td>\n",
              "      <td>10000.00</td>\n",
              "      <td>13.99%</td>\n",
              "      <td>36 months</td>\n",
              "      <td>debt_consolidation</td>\n",
              "      <td>4.89%</td>\n",
              "      <td>PA</td>\n",
              "      <td>MORTGAGE</td>\n",
              "      <td>2166.67</td>\n",
              "      <td>680-684</td>\n",
              "      <td>4.0</td>\n",
              "      <td>4544.0</td>\n",
              "      <td>0.0</td>\n",
              "      <td>10+ years</td>\n",
              "    </tr>\n",
              "    <tr>\n",
              "      <th>2498</th>\n",
              "      <td>38576</td>\n",
              "      <td>6000</td>\n",
              "      <td>6000.00</td>\n",
              "      <td>12.42%</td>\n",
              "      <td>36 months</td>\n",
              "      <td>major_purchase</td>\n",
              "      <td>16.66%</td>\n",
              "      <td>NJ</td>\n",
              "      <td>RENT</td>\n",
              "      <td>3500.00</td>\n",
              "      <td>675-679</td>\n",
              "      <td>8.0</td>\n",
              "      <td>7753.0</td>\n",
              "      <td>0.0</td>\n",
              "      <td>5 years</td>\n",
              "    </tr>\n",
              "    <tr>\n",
              "      <th>2499</th>\n",
              "      <td>3116</td>\n",
              "      <td>9000</td>\n",
              "      <td>5242.75</td>\n",
              "      <td>13.79%</td>\n",
              "      <td>36 months</td>\n",
              "      <td>debt_consolidation</td>\n",
              "      <td>6.76%</td>\n",
              "      <td>NY</td>\n",
              "      <td>RENT</td>\n",
              "      <td>3875.00</td>\n",
              "      <td>670-674</td>\n",
              "      <td>7.0</td>\n",
              "      <td>7589.0</td>\n",
              "      <td>0.0</td>\n",
              "      <td>10+ years</td>\n",
              "    </tr>\n",
              "  </tbody>\n",
              "</table>\n",
              "</div>\n",
              "      <button class=\"colab-df-convert\" onclick=\"convertToInteractive('df-6e7e9680-7c83-494c-b730-5d55ac2d6741')\"\n",
              "              title=\"Convert this dataframe to an interactive table.\"\n",
              "              style=\"display:none;\">\n",
              "        \n",
              "  <svg xmlns=\"http://www.w3.org/2000/svg\" height=\"24px\"viewBox=\"0 0 24 24\"\n",
              "       width=\"24px\">\n",
              "    <path d=\"M0 0h24v24H0V0z\" fill=\"none\"/>\n",
              "    <path d=\"M18.56 5.44l.94 2.06.94-2.06 2.06-.94-2.06-.94-.94-2.06-.94 2.06-2.06.94zm-11 1L8.5 8.5l.94-2.06 2.06-.94-2.06-.94L8.5 2.5l-.94 2.06-2.06.94zm10 10l.94 2.06.94-2.06 2.06-.94-2.06-.94-.94-2.06-.94 2.06-2.06.94z\"/><path d=\"M17.41 7.96l-1.37-1.37c-.4-.4-.92-.59-1.43-.59-.52 0-1.04.2-1.43.59L10.3 9.45l-7.72 7.72c-.78.78-.78 2.05 0 2.83L4 21.41c.39.39.9.59 1.41.59.51 0 1.02-.2 1.41-.59l7.78-7.78 2.81-2.81c.8-.78.8-2.07 0-2.86zM5.41 20L4 18.59l7.72-7.72 1.47 1.35L5.41 20z\"/>\n",
              "  </svg>\n",
              "      </button>\n",
              "      \n",
              "  <style>\n",
              "    .colab-df-container {\n",
              "      display:flex;\n",
              "      flex-wrap:wrap;\n",
              "      gap: 12px;\n",
              "    }\n",
              "\n",
              "    .colab-df-convert {\n",
              "      background-color: #E8F0FE;\n",
              "      border: none;\n",
              "      border-radius: 50%;\n",
              "      cursor: pointer;\n",
              "      display: none;\n",
              "      fill: #1967D2;\n",
              "      height: 32px;\n",
              "      padding: 0 0 0 0;\n",
              "      width: 32px;\n",
              "    }\n",
              "\n",
              "    .colab-df-convert:hover {\n",
              "      background-color: #E2EBFA;\n",
              "      box-shadow: 0px 1px 2px rgba(60, 64, 67, 0.3), 0px 1px 3px 1px rgba(60, 64, 67, 0.15);\n",
              "      fill: #174EA6;\n",
              "    }\n",
              "\n",
              "    [theme=dark] .colab-df-convert {\n",
              "      background-color: #3B4455;\n",
              "      fill: #D2E3FC;\n",
              "    }\n",
              "\n",
              "    [theme=dark] .colab-df-convert:hover {\n",
              "      background-color: #434B5C;\n",
              "      box-shadow: 0px 1px 3px 1px rgba(0, 0, 0, 0.15);\n",
              "      filter: drop-shadow(0px 1px 2px rgba(0, 0, 0, 0.3));\n",
              "      fill: #FFFFFF;\n",
              "    }\n",
              "  </style>\n",
              "\n",
              "      <script>\n",
              "        const buttonEl =\n",
              "          document.querySelector('#df-6e7e9680-7c83-494c-b730-5d55ac2d6741 button.colab-df-convert');\n",
              "        buttonEl.style.display =\n",
              "          google.colab.kernel.accessAllowed ? 'block' : 'none';\n",
              "\n",
              "        async function convertToInteractive(key) {\n",
              "          const element = document.querySelector('#df-6e7e9680-7c83-494c-b730-5d55ac2d6741');\n",
              "          const dataTable =\n",
              "            await google.colab.kernel.invokeFunction('convertToInteractive',\n",
              "                                                     [key], {});\n",
              "          if (!dataTable) return;\n",
              "\n",
              "          const docLinkHtml = 'Like what you see? Visit the ' +\n",
              "            '<a target=\"_blank\" href=https://colab.research.google.com/notebooks/data_table.ipynb>data table notebook</a>'\n",
              "            + ' to learn more about interactive tables.';\n",
              "          element.innerHTML = '';\n",
              "          dataTable['output_type'] = 'display_data';\n",
              "          await google.colab.output.renderOutput(dataTable, element);\n",
              "          const docLink = document.createElement('div');\n",
              "          docLink.innerHTML = docLinkHtml;\n",
              "          element.appendChild(docLink);\n",
              "        }\n",
              "      </script>\n",
              "    </div>\n",
              "  </div>\n",
              "  "
            ]
          },
          "metadata": {},
          "execution_count": 118
        }
      ]
    },
    {
      "cell_type": "code",
      "source": [
        "data.describe()"
      ],
      "metadata": {
        "colab": {
          "base_uri": "https://localhost:8080/",
          "height": 300
        },
        "id": "e2Nuv4QaQgdD",
        "outputId": "49cba186-6705-41fd-dd03-c16434e3a0a9"
      },
      "execution_count": 119,
      "outputs": [
        {
          "output_type": "execute_result",
          "data": {
            "text/plain": [
              "              CustID  Amount.Requested  Amount.Funded.By.Investors  \\\n",
              "count    2500.000000       2500.000000                 2500.000000   \n",
              "mean    51631.597200      12406.500000                12001.573236   \n",
              "std     30053.345508       7801.544872                 7745.320754   \n",
              "min        10.000000       1000.000000                   -0.010000   \n",
              "25%     26523.000000       6000.000000                 6000.000000   \n",
              "50%     50653.000000      10000.000000                10000.000000   \n",
              "75%     77580.500000      17000.000000                16000.000000   \n",
              "max    104202.000000      35000.000000                35000.000000   \n",
              "\n",
              "       Monthly.Income  Open.CREDIT.Lines  Revolving.CREDIT.Balance  \\\n",
              "count     2499.000000        2498.000000               2498.000000   \n",
              "mean      5688.931321          10.075661              15244.559648   \n",
              "std       3963.118185           4.508644              18308.549795   \n",
              "min        588.500000           2.000000                  0.000000   \n",
              "25%       3500.000000           7.000000               5585.750000   \n",
              "50%       5000.000000           9.000000              10962.000000   \n",
              "75%       6800.000000          13.000000              18888.750000   \n",
              "max     102750.000000          38.000000             270800.000000   \n",
              "\n",
              "       Inquiries.in.the.Last.6.Months  \n",
              "count                     2498.000000  \n",
              "mean                         0.906325  \n",
              "std                          1.231036  \n",
              "min                          0.000000  \n",
              "25%                          0.000000  \n",
              "50%                          0.000000  \n",
              "75%                          1.000000  \n",
              "max                          9.000000  "
            ],
            "text/html": [
              "\n",
              "  <div id=\"df-4ed907c7-ab56-41f2-99dc-f6c406c20c21\">\n",
              "    <div class=\"colab-df-container\">\n",
              "      <div>\n",
              "<style scoped>\n",
              "    .dataframe tbody tr th:only-of-type {\n",
              "        vertical-align: middle;\n",
              "    }\n",
              "\n",
              "    .dataframe tbody tr th {\n",
              "        vertical-align: top;\n",
              "    }\n",
              "\n",
              "    .dataframe thead th {\n",
              "        text-align: right;\n",
              "    }\n",
              "</style>\n",
              "<table border=\"1\" class=\"dataframe\">\n",
              "  <thead>\n",
              "    <tr style=\"text-align: right;\">\n",
              "      <th></th>\n",
              "      <th>CustID</th>\n",
              "      <th>Amount.Requested</th>\n",
              "      <th>Amount.Funded.By.Investors</th>\n",
              "      <th>Monthly.Income</th>\n",
              "      <th>Open.CREDIT.Lines</th>\n",
              "      <th>Revolving.CREDIT.Balance</th>\n",
              "      <th>Inquiries.in.the.Last.6.Months</th>\n",
              "    </tr>\n",
              "  </thead>\n",
              "  <tbody>\n",
              "    <tr>\n",
              "      <th>count</th>\n",
              "      <td>2500.000000</td>\n",
              "      <td>2500.000000</td>\n",
              "      <td>2500.000000</td>\n",
              "      <td>2499.000000</td>\n",
              "      <td>2498.000000</td>\n",
              "      <td>2498.000000</td>\n",
              "      <td>2498.000000</td>\n",
              "    </tr>\n",
              "    <tr>\n",
              "      <th>mean</th>\n",
              "      <td>51631.597200</td>\n",
              "      <td>12406.500000</td>\n",
              "      <td>12001.573236</td>\n",
              "      <td>5688.931321</td>\n",
              "      <td>10.075661</td>\n",
              "      <td>15244.559648</td>\n",
              "      <td>0.906325</td>\n",
              "    </tr>\n",
              "    <tr>\n",
              "      <th>std</th>\n",
              "      <td>30053.345508</td>\n",
              "      <td>7801.544872</td>\n",
              "      <td>7745.320754</td>\n",
              "      <td>3963.118185</td>\n",
              "      <td>4.508644</td>\n",
              "      <td>18308.549795</td>\n",
              "      <td>1.231036</td>\n",
              "    </tr>\n",
              "    <tr>\n",
              "      <th>min</th>\n",
              "      <td>10.000000</td>\n",
              "      <td>1000.000000</td>\n",
              "      <td>-0.010000</td>\n",
              "      <td>588.500000</td>\n",
              "      <td>2.000000</td>\n",
              "      <td>0.000000</td>\n",
              "      <td>0.000000</td>\n",
              "    </tr>\n",
              "    <tr>\n",
              "      <th>25%</th>\n",
              "      <td>26523.000000</td>\n",
              "      <td>6000.000000</td>\n",
              "      <td>6000.000000</td>\n",
              "      <td>3500.000000</td>\n",
              "      <td>7.000000</td>\n",
              "      <td>5585.750000</td>\n",
              "      <td>0.000000</td>\n",
              "    </tr>\n",
              "    <tr>\n",
              "      <th>50%</th>\n",
              "      <td>50653.000000</td>\n",
              "      <td>10000.000000</td>\n",
              "      <td>10000.000000</td>\n",
              "      <td>5000.000000</td>\n",
              "      <td>9.000000</td>\n",
              "      <td>10962.000000</td>\n",
              "      <td>0.000000</td>\n",
              "    </tr>\n",
              "    <tr>\n",
              "      <th>75%</th>\n",
              "      <td>77580.500000</td>\n",
              "      <td>17000.000000</td>\n",
              "      <td>16000.000000</td>\n",
              "      <td>6800.000000</td>\n",
              "      <td>13.000000</td>\n",
              "      <td>18888.750000</td>\n",
              "      <td>1.000000</td>\n",
              "    </tr>\n",
              "    <tr>\n",
              "      <th>max</th>\n",
              "      <td>104202.000000</td>\n",
              "      <td>35000.000000</td>\n",
              "      <td>35000.000000</td>\n",
              "      <td>102750.000000</td>\n",
              "      <td>38.000000</td>\n",
              "      <td>270800.000000</td>\n",
              "      <td>9.000000</td>\n",
              "    </tr>\n",
              "  </tbody>\n",
              "</table>\n",
              "</div>\n",
              "      <button class=\"colab-df-convert\" onclick=\"convertToInteractive('df-4ed907c7-ab56-41f2-99dc-f6c406c20c21')\"\n",
              "              title=\"Convert this dataframe to an interactive table.\"\n",
              "              style=\"display:none;\">\n",
              "        \n",
              "  <svg xmlns=\"http://www.w3.org/2000/svg\" height=\"24px\"viewBox=\"0 0 24 24\"\n",
              "       width=\"24px\">\n",
              "    <path d=\"M0 0h24v24H0V0z\" fill=\"none\"/>\n",
              "    <path d=\"M18.56 5.44l.94 2.06.94-2.06 2.06-.94-2.06-.94-.94-2.06-.94 2.06-2.06.94zm-11 1L8.5 8.5l.94-2.06 2.06-.94-2.06-.94L8.5 2.5l-.94 2.06-2.06.94zm10 10l.94 2.06.94-2.06 2.06-.94-2.06-.94-.94-2.06-.94 2.06-2.06.94z\"/><path d=\"M17.41 7.96l-1.37-1.37c-.4-.4-.92-.59-1.43-.59-.52 0-1.04.2-1.43.59L10.3 9.45l-7.72 7.72c-.78.78-.78 2.05 0 2.83L4 21.41c.39.39.9.59 1.41.59.51 0 1.02-.2 1.41-.59l7.78-7.78 2.81-2.81c.8-.78.8-2.07 0-2.86zM5.41 20L4 18.59l7.72-7.72 1.47 1.35L5.41 20z\"/>\n",
              "  </svg>\n",
              "      </button>\n",
              "      \n",
              "  <style>\n",
              "    .colab-df-container {\n",
              "      display:flex;\n",
              "      flex-wrap:wrap;\n",
              "      gap: 12px;\n",
              "    }\n",
              "\n",
              "    .colab-df-convert {\n",
              "      background-color: #E8F0FE;\n",
              "      border: none;\n",
              "      border-radius: 50%;\n",
              "      cursor: pointer;\n",
              "      display: none;\n",
              "      fill: #1967D2;\n",
              "      height: 32px;\n",
              "      padding: 0 0 0 0;\n",
              "      width: 32px;\n",
              "    }\n",
              "\n",
              "    .colab-df-convert:hover {\n",
              "      background-color: #E2EBFA;\n",
              "      box-shadow: 0px 1px 2px rgba(60, 64, 67, 0.3), 0px 1px 3px 1px rgba(60, 64, 67, 0.15);\n",
              "      fill: #174EA6;\n",
              "    }\n",
              "\n",
              "    [theme=dark] .colab-df-convert {\n",
              "      background-color: #3B4455;\n",
              "      fill: #D2E3FC;\n",
              "    }\n",
              "\n",
              "    [theme=dark] .colab-df-convert:hover {\n",
              "      background-color: #434B5C;\n",
              "      box-shadow: 0px 1px 3px 1px rgba(0, 0, 0, 0.15);\n",
              "      filter: drop-shadow(0px 1px 2px rgba(0, 0, 0, 0.3));\n",
              "      fill: #FFFFFF;\n",
              "    }\n",
              "  </style>\n",
              "\n",
              "      <script>\n",
              "        const buttonEl =\n",
              "          document.querySelector('#df-4ed907c7-ab56-41f2-99dc-f6c406c20c21 button.colab-df-convert');\n",
              "        buttonEl.style.display =\n",
              "          google.colab.kernel.accessAllowed ? 'block' : 'none';\n",
              "\n",
              "        async function convertToInteractive(key) {\n",
              "          const element = document.querySelector('#df-4ed907c7-ab56-41f2-99dc-f6c406c20c21');\n",
              "          const dataTable =\n",
              "            await google.colab.kernel.invokeFunction('convertToInteractive',\n",
              "                                                     [key], {});\n",
              "          if (!dataTable) return;\n",
              "\n",
              "          const docLinkHtml = 'Like what you see? Visit the ' +\n",
              "            '<a target=\"_blank\" href=https://colab.research.google.com/notebooks/data_table.ipynb>data table notebook</a>'\n",
              "            + ' to learn more about interactive tables.';\n",
              "          element.innerHTML = '';\n",
              "          dataTable['output_type'] = 'display_data';\n",
              "          await google.colab.output.renderOutput(dataTable, element);\n",
              "          const docLink = document.createElement('div');\n",
              "          docLink.innerHTML = docLinkHtml;\n",
              "          element.appendChild(docLink);\n",
              "        }\n",
              "      </script>\n",
              "    </div>\n",
              "  </div>\n",
              "  "
            ]
          },
          "metadata": {},
          "execution_count": 119
        }
      ]
    },
    {
      "cell_type": "markdown",
      "source": [
        "# Check for missing values"
      ],
      "metadata": {
        "id": "fwgsztcNddRE"
      }
    },
    {
      "cell_type": "code",
      "source": [
        "# using isnull() function  \n",
        "data.isnull().sum()"
      ],
      "metadata": {
        "colab": {
          "base_uri": "https://localhost:8080/"
        },
        "id": "_f3snX4gdg5R",
        "outputId": "8884a5ec-5c31-4ae6-90a2-fc381f8f47b1"
      },
      "execution_count": 120,
      "outputs": [
        {
          "output_type": "execute_result",
          "data": {
            "text/plain": [
              "CustID                             0\n",
              "Amount.Requested                   0\n",
              "Amount.Funded.By.Investors         0\n",
              "Interest.Rate                      0\n",
              "Loan.Length                        0\n",
              "Loan.Purpose                       0\n",
              "Debt.To.Income.Ratio               0\n",
              "State                              0\n",
              "Home.Ownership                     0\n",
              "Monthly.Income                     1\n",
              "FICO.Range                         0\n",
              "Open.CREDIT.Lines                  2\n",
              "Revolving.CREDIT.Balance           2\n",
              "Inquiries.in.the.Last.6.Months     2\n",
              "Employment.Length                 77\n",
              "dtype: int64"
            ]
          },
          "metadata": {},
          "execution_count": 120
        }
      ]
    },
    {
      "cell_type": "markdown",
      "source": [
        "Replace missing Monthly.Income with median \n",
        "\n",
        "\n",
        "> Since income has a skewed distribution it is better to perform median imputation as compared to mean or mode.\n",
        "\n"
      ],
      "metadata": {
        "id": "o1JCTJTAduXu"
      }
    },
    {
      "cell_type": "code",
      "source": [
        "median_income = data['Monthly.Income'].median()\n",
        "data['Monthly.Income'].fillna(median_income, inplace=True)"
      ],
      "metadata": {
        "id": "QQ6a74GQej3S"
      },
      "execution_count": 121,
      "outputs": []
    },
    {
      "cell_type": "markdown",
      "source": [
        "Impute Open.CREDIT.Lines, Revolving.CREDIT.Balance, Inquiries.in.the.Last.6.Months, Employment.Length using Mean"
      ],
      "metadata": {
        "id": "DkVxhatdfkVd"
      }
    },
    {
      "cell_type": "code",
      "source": [
        "data['Open.CREDIT.Lines'].fillna(data['Open.CREDIT.Lines'].mean(), inplace=True)\n",
        "data['Revolving.CREDIT.Balance'].fillna(data['Revolving.CREDIT.Balance'].mean(), inplace=True)\n",
        "data['Inquiries.in.the.Last.6.Months'].fillna(data['Inquiries.in.the.Last.6.Months'].mean(), inplace=True)\n",
        "data['Inquiries.in.the.Last.6.Months'].fillna(data['Inquiries.in.the.Last.6.Months'].mean(), inplace=True)"
      ],
      "metadata": {
        "id": "s9LsLY2df4Aw"
      },
      "execution_count": 122,
      "outputs": []
    },
    {
      "cell_type": "markdown",
      "metadata": {
        "id": "jR1iuBVNGXRF"
      },
      "source": [
        "#Clean data"
      ]
    },
    {
      "cell_type": "markdown",
      "source": [
        "Remove % sign from Interest.Rate column"
      ],
      "metadata": {
        "id": "eCb17reHVs4y"
      }
    },
    {
      "cell_type": "code",
      "source": [
        "data[\"Interest.Rate\"] = data[\"Interest.Rate\"].str.replace(\"%\",\"\")"
      ],
      "metadata": {
        "id": "NabGxjflVgZq"
      },
      "execution_count": 123,
      "outputs": []
    },
    {
      "cell_type": "markdown",
      "source": [
        "Remove \"months\" from Loan.Length"
      ],
      "metadata": {
        "id": "fnGyXyCCV8CV"
      }
    },
    {
      "cell_type": "code",
      "source": [
        "data[\"Loan.Length\"] = data[\"Loan.Length\"].str.replace(\" months\",\"\")"
      ],
      "metadata": {
        "id": "UXb3WQY_WBWn"
      },
      "execution_count": 124,
      "outputs": []
    },
    {
      "cell_type": "markdown",
      "source": [
        "Considering only lower limit of FICO.Range\n",
        "\n",
        "> Considering lower credit score of customer provides a less risk for company\n",
        "\n"
      ],
      "metadata": {
        "id": "xXxb1OzdZuDX"
      }
    },
    {
      "cell_type": "code",
      "source": [
        "data['FICO.Range'] = data['FICO.Range'].str.slice(0, 3)"
      ],
      "metadata": {
        "id": "HYQIrWEQZzm6"
      },
      "execution_count": 125,
      "outputs": []
    },
    {
      "cell_type": "markdown",
      "source": [
        "Extract numerical value from Employment.Length"
      ],
      "metadata": {
        "id": "ePAJg48AqGWP"
      }
    },
    {
      "cell_type": "code",
      "source": [
        "data[\"Employment.Length\"] = data[\"Employment.Length\"].str.replace(\"< \",\"\")\n",
        "data['Employment.Length'] = data['Employment.Length'].str.slice(0, 2)\n",
        "data[\"Employment.Length\"] = data[\"Employment.Length\"].str.replace(\" \",\"\")"
      ],
      "metadata": {
        "id": "IoZMETiNqF1H"
      },
      "execution_count": 126,
      "outputs": []
    },
    {
      "cell_type": "code",
      "source": [
        "data['Employment.Length'].unique()"
      ],
      "metadata": {
        "colab": {
          "base_uri": "https://localhost:8080/"
        },
        "id": "oEQuht4jsl9O",
        "outputId": "9110a48e-357d-47a9-dae7-f35b15fe11b8"
      },
      "execution_count": 127,
      "outputs": [
        {
          "output_type": "execute_result",
          "data": {
            "text/plain": [
              "array(['1', '2', '5', '9', '3', '10', '8', '6', '7', '4', nan],\n",
              "      dtype=object)"
            ]
          },
          "metadata": {},
          "execution_count": 127
        }
      ]
    },
    {
      "cell_type": "markdown",
      "source": [
        "Converting Interest.Rate, Loan.Length, FICO.Range, Monthly.Income to numeric"
      ],
      "metadata": {
        "id": "8u-N18znaExg"
      }
    },
    {
      "cell_type": "code",
      "source": [
        "data['Interest.Rate'] = data['Interest.Rate'].astype(float).astype(int)\n",
        "data['Loan.Length'] = data['Loan.Length'].astype(float).astype(int)\n",
        "data['FICO.Range'] = data['FICO.Range'].astype(float).astype(int)\n",
        "data['Monthly.Income'] = data['Monthly.Income'].astype(int)"
      ],
      "metadata": {
        "id": "GH85BqZuaNC_"
      },
      "execution_count": 128,
      "outputs": []
    },
    {
      "cell_type": "markdown",
      "source": [
        "Convert Employment.Length from object to string to float"
      ],
      "metadata": {
        "id": "QPiVMCfevh-8"
      }
    },
    {
      "cell_type": "code",
      "source": [
        "data['Employment.Length'] = data['Employment.Length'].astype(str).astype(float)"
      ],
      "metadata": {
        "id": "j_YG1nmjrb_c"
      },
      "execution_count": 129,
      "outputs": []
    },
    {
      "cell_type": "markdown",
      "source": [
        "Replace missing values with mean value"
      ],
      "metadata": {
        "id": "FBROwmQbq4Z9"
      }
    },
    {
      "cell_type": "code",
      "source": [
        "data['Employment.Length'].fillna(data['Employment.Length'].mean(), inplace=True)"
      ],
      "metadata": {
        "id": "jGXUKadZrBmg"
      },
      "execution_count": 130,
      "outputs": []
    },
    {
      "cell_type": "markdown",
      "source": [
        "Convert Employment.Length from float to int"
      ],
      "metadata": {
        "id": "CiIMgf4Cvcxu"
      }
    },
    {
      "cell_type": "code",
      "source": [
        "data['Employment.Length'] = data['Employment.Length'].astype(int)"
      ],
      "metadata": {
        "id": "B7Lp_tnYvnYj"
      },
      "execution_count": 131,
      "outputs": []
    },
    {
      "cell_type": "markdown",
      "source": [
        "Remove % sign from Debt.To.Income.Ratio"
      ],
      "metadata": {
        "id": "Z-VQIoUXWgYN"
      }
    },
    {
      "cell_type": "code",
      "source": [
        "data[\"Debt.To.Income.Ratio\"] = data[\"Debt.To.Income.Ratio\"].str.replace(\"%\",\"\")"
      ],
      "metadata": {
        "id": "gcaN1asjWlfx"
      },
      "execution_count": 132,
      "outputs": []
    },
    {
      "cell_type": "markdown",
      "source": [
        "Create a new column to check Interest Slab according to Interest.Rate \n",
        "\n",
        "\n",
        "> Low Rate - < 10%\n",
        "\n",
        "> Mid Rate - 10-20%\n",
        "\n",
        "> High Rate - > 20%\n",
        "\n",
        "\n",
        "\n",
        "\n",
        "\n",
        "\n",
        "\n"
      ],
      "metadata": {
        "id": "m4I3dlueW64_"
      }
    },
    {
      "cell_type": "code",
      "source": [
        "data[\"Interest.Slab\"] = pd.cut(\n",
        "    x=data[\"Interest.Rate\"],\n",
        "    bins=[1, 9, 19, np.inf],\n",
        "    labels=[\"Low\", \"Mid\", \"High\"],\n",
        ")"
      ],
      "metadata": {
        "id": "cfNb4PBElMpI"
      },
      "execution_count": 133,
      "outputs": []
    },
    {
      "cell_type": "markdown",
      "source": [
        "#Encoding for Categorical Data\n",
        "\n",
        "> We will use Label Encoding for all categorical variables.\n",
        "\n"
      ],
      "metadata": {
        "id": "ZbgWdlwHzzYA"
      }
    },
    {
      "cell_type": "markdown",
      "source": [
        "Loan.Purpose"
      ],
      "metadata": {
        "id": "sTrMp4RK1ghf"
      }
    },
    {
      "cell_type": "code",
      "source": [
        "# Import label encoder\n",
        "from sklearn import preprocessing\n",
        " \n",
        "# label_encoder object knows how to understand word labels.\n",
        "label_encoder = preprocessing.LabelEncoder()\n",
        " \n",
        "# Encode labels in column 'species'.\n",
        "data['Loan.Purpose']= label_encoder.fit_transform(data['Loan.Purpose'])\n",
        " \n",
        "data['Loan.Purpose'].unique()"
      ],
      "metadata": {
        "colab": {
          "base_uri": "https://localhost:8080/"
        },
        "id": "wzTFoDa011eB",
        "outputId": "7cd7a9b5-eb06-4051-e900-c9ccaecd1afb"
      },
      "execution_count": 135,
      "outputs": [
        {
          "output_type": "execute_result",
          "data": {
            "text/plain": [
              "array([ 2,  1,  9,  8,  0, 12,  4,  5,  6,  3,  7, 13, 11, 10])"
            ]
          },
          "metadata": {},
          "execution_count": 135
        }
      ]
    },
    {
      "cell_type": "markdown",
      "source": [
        "Home.Ownership"
      ],
      "metadata": {
        "id": "SzHmnkYS2d-M"
      }
    },
    {
      "cell_type": "code",
      "source": [
        "# Import label encoder\n",
        "from sklearn import preprocessing\n",
        " \n",
        "# label_encoder object knows how to understand word labels.\n",
        "label_encoder = preprocessing.LabelEncoder()\n",
        " \n",
        "# Encode labels in column 'species'.\n",
        "data['Home.Ownership']= label_encoder.fit_transform(data['Home.Ownership'])\n",
        " \n",
        "data['Home.Ownership'].unique()"
      ],
      "metadata": {
        "colab": {
          "base_uri": "https://localhost:8080/"
        },
        "outputId": "8df2e361-dcde-4779-ba2d-038f0932bb53",
        "id": "DGXyJqvj2Txu"
      },
      "execution_count": 136,
      "outputs": [
        {
          "output_type": "execute_result",
          "data": {
            "text/plain": [
              "array([0, 4, 3, 2, 1])"
            ]
          },
          "metadata": {},
          "execution_count": 136
        }
      ]
    },
    {
      "cell_type": "markdown",
      "source": [
        "Interest.Slab"
      ],
      "metadata": {
        "id": "5PZUkyls2ogd"
      }
    },
    {
      "cell_type": "code",
      "source": [
        "# Import label encoder\n",
        "from sklearn import preprocessing\n",
        " \n",
        "# label_encoder object knows how to understand word labels.\n",
        "label_encoder = preprocessing.LabelEncoder()\n",
        " \n",
        "# Encode labels in column 'species'.\n",
        "data['Interest.Slab']= label_encoder.fit_transform(data['Interest.Slab'])\n",
        " \n",
        "data['Interest.Slab'].unique()"
      ],
      "metadata": {
        "colab": {
          "base_uri": "https://localhost:8080/"
        },
        "outputId": "5bb2315a-aaa6-4c5a-c0f3-93cb556d3b46",
        "id": "feu2WJZt2Sl5"
      },
      "execution_count": 137,
      "outputs": [
        {
          "output_type": "execute_result",
          "data": {
            "text/plain": [
              "array([1, 2, 0])"
            ]
          },
          "metadata": {},
          "execution_count": 137
        }
      ]
    },
    {
      "cell_type": "markdown",
      "source": [
        "#Let us take a look at the cleaned data"
      ],
      "metadata": {
        "id": "GZmBFu38vvIB"
      }
    },
    {
      "cell_type": "code",
      "source": [
        "data.head()"
      ],
      "metadata": {
        "colab": {
          "base_uri": "https://localhost:8080/",
          "height": 270
        },
        "id": "ppB-pn9mbb4j",
        "outputId": "d5bf8194-a956-47c4-8f9f-b6b12cedfb5e"
      },
      "execution_count": 138,
      "outputs": [
        {
          "output_type": "execute_result",
          "data": {
            "text/plain": [
              "   CustID  Amount.Requested  Amount.Funded.By.Investors  Interest.Rate  \\\n",
              "0   81174             20000                     20000.0              8   \n",
              "1   99592             19200                     19200.0             12   \n",
              "2   80059             35000                     35000.0             21   \n",
              "3   15825             10000                      9975.0              9   \n",
              "4   33182             12000                     12000.0             11   \n",
              "\n",
              "   Loan.Length  Loan.Purpose Debt.To.Income.Ratio State  Home.Ownership  \\\n",
              "0           36             2                14.90    SC               0   \n",
              "1           36             2                28.36    TX               0   \n",
              "2           60             2                23.81    CA               0   \n",
              "3           36             2                14.30    KS               0   \n",
              "4           36             1                18.78    NJ               4   \n",
              "\n",
              "   Monthly.Income  FICO.Range  Open.CREDIT.Lines  Revolving.CREDIT.Balance  \\\n",
              "0            6541         735               14.0                   14272.0   \n",
              "1            4583         715               12.0                   11140.0   \n",
              "2           11500         690               14.0                   21977.0   \n",
              "3            3833         695               10.0                    9346.0   \n",
              "4            3195         695               11.0                   14469.0   \n",
              "\n",
              "   Inquiries.in.the.Last.6.Months  Employment.Length  Interest.Slab  \n",
              "0                             2.0                  1              1  \n",
              "1                             1.0                  2              2  \n",
              "2                             1.0                  2              0  \n",
              "3                             0.0                  5              1  \n",
              "4                             0.0                  9              2  "
            ],
            "text/html": [
              "\n",
              "  <div id=\"df-4a70bee1-9a93-4d79-8875-403f47b15528\">\n",
              "    <div class=\"colab-df-container\">\n",
              "      <div>\n",
              "<style scoped>\n",
              "    .dataframe tbody tr th:only-of-type {\n",
              "        vertical-align: middle;\n",
              "    }\n",
              "\n",
              "    .dataframe tbody tr th {\n",
              "        vertical-align: top;\n",
              "    }\n",
              "\n",
              "    .dataframe thead th {\n",
              "        text-align: right;\n",
              "    }\n",
              "</style>\n",
              "<table border=\"1\" class=\"dataframe\">\n",
              "  <thead>\n",
              "    <tr style=\"text-align: right;\">\n",
              "      <th></th>\n",
              "      <th>CustID</th>\n",
              "      <th>Amount.Requested</th>\n",
              "      <th>Amount.Funded.By.Investors</th>\n",
              "      <th>Interest.Rate</th>\n",
              "      <th>Loan.Length</th>\n",
              "      <th>Loan.Purpose</th>\n",
              "      <th>Debt.To.Income.Ratio</th>\n",
              "      <th>State</th>\n",
              "      <th>Home.Ownership</th>\n",
              "      <th>Monthly.Income</th>\n",
              "      <th>FICO.Range</th>\n",
              "      <th>Open.CREDIT.Lines</th>\n",
              "      <th>Revolving.CREDIT.Balance</th>\n",
              "      <th>Inquiries.in.the.Last.6.Months</th>\n",
              "      <th>Employment.Length</th>\n",
              "      <th>Interest.Slab</th>\n",
              "    </tr>\n",
              "  </thead>\n",
              "  <tbody>\n",
              "    <tr>\n",
              "      <th>0</th>\n",
              "      <td>81174</td>\n",
              "      <td>20000</td>\n",
              "      <td>20000.0</td>\n",
              "      <td>8</td>\n",
              "      <td>36</td>\n",
              "      <td>2</td>\n",
              "      <td>14.90</td>\n",
              "      <td>SC</td>\n",
              "      <td>0</td>\n",
              "      <td>6541</td>\n",
              "      <td>735</td>\n",
              "      <td>14.0</td>\n",
              "      <td>14272.0</td>\n",
              "      <td>2.0</td>\n",
              "      <td>1</td>\n",
              "      <td>1</td>\n",
              "    </tr>\n",
              "    <tr>\n",
              "      <th>1</th>\n",
              "      <td>99592</td>\n",
              "      <td>19200</td>\n",
              "      <td>19200.0</td>\n",
              "      <td>12</td>\n",
              "      <td>36</td>\n",
              "      <td>2</td>\n",
              "      <td>28.36</td>\n",
              "      <td>TX</td>\n",
              "      <td>0</td>\n",
              "      <td>4583</td>\n",
              "      <td>715</td>\n",
              "      <td>12.0</td>\n",
              "      <td>11140.0</td>\n",
              "      <td>1.0</td>\n",
              "      <td>2</td>\n",
              "      <td>2</td>\n",
              "    </tr>\n",
              "    <tr>\n",
              "      <th>2</th>\n",
              "      <td>80059</td>\n",
              "      <td>35000</td>\n",
              "      <td>35000.0</td>\n",
              "      <td>21</td>\n",
              "      <td>60</td>\n",
              "      <td>2</td>\n",
              "      <td>23.81</td>\n",
              "      <td>CA</td>\n",
              "      <td>0</td>\n",
              "      <td>11500</td>\n",
              "      <td>690</td>\n",
              "      <td>14.0</td>\n",
              "      <td>21977.0</td>\n",
              "      <td>1.0</td>\n",
              "      <td>2</td>\n",
              "      <td>0</td>\n",
              "    </tr>\n",
              "    <tr>\n",
              "      <th>3</th>\n",
              "      <td>15825</td>\n",
              "      <td>10000</td>\n",
              "      <td>9975.0</td>\n",
              "      <td>9</td>\n",
              "      <td>36</td>\n",
              "      <td>2</td>\n",
              "      <td>14.30</td>\n",
              "      <td>KS</td>\n",
              "      <td>0</td>\n",
              "      <td>3833</td>\n",
              "      <td>695</td>\n",
              "      <td>10.0</td>\n",
              "      <td>9346.0</td>\n",
              "      <td>0.0</td>\n",
              "      <td>5</td>\n",
              "      <td>1</td>\n",
              "    </tr>\n",
              "    <tr>\n",
              "      <th>4</th>\n",
              "      <td>33182</td>\n",
              "      <td>12000</td>\n",
              "      <td>12000.0</td>\n",
              "      <td>11</td>\n",
              "      <td>36</td>\n",
              "      <td>1</td>\n",
              "      <td>18.78</td>\n",
              "      <td>NJ</td>\n",
              "      <td>4</td>\n",
              "      <td>3195</td>\n",
              "      <td>695</td>\n",
              "      <td>11.0</td>\n",
              "      <td>14469.0</td>\n",
              "      <td>0.0</td>\n",
              "      <td>9</td>\n",
              "      <td>2</td>\n",
              "    </tr>\n",
              "  </tbody>\n",
              "</table>\n",
              "</div>\n",
              "      <button class=\"colab-df-convert\" onclick=\"convertToInteractive('df-4a70bee1-9a93-4d79-8875-403f47b15528')\"\n",
              "              title=\"Convert this dataframe to an interactive table.\"\n",
              "              style=\"display:none;\">\n",
              "        \n",
              "  <svg xmlns=\"http://www.w3.org/2000/svg\" height=\"24px\"viewBox=\"0 0 24 24\"\n",
              "       width=\"24px\">\n",
              "    <path d=\"M0 0h24v24H0V0z\" fill=\"none\"/>\n",
              "    <path d=\"M18.56 5.44l.94 2.06.94-2.06 2.06-.94-2.06-.94-.94-2.06-.94 2.06-2.06.94zm-11 1L8.5 8.5l.94-2.06 2.06-.94-2.06-.94L8.5 2.5l-.94 2.06-2.06.94zm10 10l.94 2.06.94-2.06 2.06-.94-2.06-.94-.94-2.06-.94 2.06-2.06.94z\"/><path d=\"M17.41 7.96l-1.37-1.37c-.4-.4-.92-.59-1.43-.59-.52 0-1.04.2-1.43.59L10.3 9.45l-7.72 7.72c-.78.78-.78 2.05 0 2.83L4 21.41c.39.39.9.59 1.41.59.51 0 1.02-.2 1.41-.59l7.78-7.78 2.81-2.81c.8-.78.8-2.07 0-2.86zM5.41 20L4 18.59l7.72-7.72 1.47 1.35L5.41 20z\"/>\n",
              "  </svg>\n",
              "      </button>\n",
              "      \n",
              "  <style>\n",
              "    .colab-df-container {\n",
              "      display:flex;\n",
              "      flex-wrap:wrap;\n",
              "      gap: 12px;\n",
              "    }\n",
              "\n",
              "    .colab-df-convert {\n",
              "      background-color: #E8F0FE;\n",
              "      border: none;\n",
              "      border-radius: 50%;\n",
              "      cursor: pointer;\n",
              "      display: none;\n",
              "      fill: #1967D2;\n",
              "      height: 32px;\n",
              "      padding: 0 0 0 0;\n",
              "      width: 32px;\n",
              "    }\n",
              "\n",
              "    .colab-df-convert:hover {\n",
              "      background-color: #E2EBFA;\n",
              "      box-shadow: 0px 1px 2px rgba(60, 64, 67, 0.3), 0px 1px 3px 1px rgba(60, 64, 67, 0.15);\n",
              "      fill: #174EA6;\n",
              "    }\n",
              "\n",
              "    [theme=dark] .colab-df-convert {\n",
              "      background-color: #3B4455;\n",
              "      fill: #D2E3FC;\n",
              "    }\n",
              "\n",
              "    [theme=dark] .colab-df-convert:hover {\n",
              "      background-color: #434B5C;\n",
              "      box-shadow: 0px 1px 3px 1px rgba(0, 0, 0, 0.15);\n",
              "      filter: drop-shadow(0px 1px 2px rgba(0, 0, 0, 0.3));\n",
              "      fill: #FFFFFF;\n",
              "    }\n",
              "  </style>\n",
              "\n",
              "      <script>\n",
              "        const buttonEl =\n",
              "          document.querySelector('#df-4a70bee1-9a93-4d79-8875-403f47b15528 button.colab-df-convert');\n",
              "        buttonEl.style.display =\n",
              "          google.colab.kernel.accessAllowed ? 'block' : 'none';\n",
              "\n",
              "        async function convertToInteractive(key) {\n",
              "          const element = document.querySelector('#df-4a70bee1-9a93-4d79-8875-403f47b15528');\n",
              "          const dataTable =\n",
              "            await google.colab.kernel.invokeFunction('convertToInteractive',\n",
              "                                                     [key], {});\n",
              "          if (!dataTable) return;\n",
              "\n",
              "          const docLinkHtml = 'Like what you see? Visit the ' +\n",
              "            '<a target=\"_blank\" href=https://colab.research.google.com/notebooks/data_table.ipynb>data table notebook</a>'\n",
              "            + ' to learn more about interactive tables.';\n",
              "          element.innerHTML = '';\n",
              "          dataTable['output_type'] = 'display_data';\n",
              "          await google.colab.output.renderOutput(dataTable, element);\n",
              "          const docLink = document.createElement('div');\n",
              "          docLink.innerHTML = docLinkHtml;\n",
              "          element.appendChild(docLink);\n",
              "        }\n",
              "      </script>\n",
              "    </div>\n",
              "  </div>\n",
              "  "
            ]
          },
          "metadata": {},
          "execution_count": 138
        }
      ]
    },
    {
      "cell_type": "markdown",
      "source": [
        "# Building Model"
      ],
      "metadata": {
        "id": "j_RjN0GK2-pR"
      }
    },
    {
      "cell_type": "markdown",
      "source": [
        "Determing the Independent (predictor) and Dependent (response) variables"
      ],
      "metadata": {
        "id": "CucDM3e53cuJ"
      }
    },
    {
      "cell_type": "code",
      "source": [
        "# X -> features, y -> label\n",
        "X = data.loc[:, ~data.columns.isin(['CustID', 'State', 'Interest.Slab'])]\n",
        "Y = data['Interest.Slab']"
      ],
      "metadata": {
        "id": "fxph6IQ83mDu"
      },
      "execution_count": 144,
      "outputs": []
    },
    {
      "cell_type": "markdown",
      "source": [
        "Load libraries"
      ],
      "metadata": {
        "id": "Z0J8ECAv47bp"
      }
    },
    {
      "cell_type": "code",
      "source": [
        "# importing necessary libraries\n",
        "from sklearn import datasets\n",
        "from sklearn.metrics import confusion_matrix\n",
        "from sklearn.model_selection import train_test_split\n",
        "from sklearn.metrics import matthews_corrcoef"
      ],
      "metadata": {
        "id": "bydBd4gs49WK"
      },
      "execution_count": 166,
      "outputs": []
    },
    {
      "cell_type": "markdown",
      "source": [
        "Split Data"
      ],
      "metadata": {
        "id": "DWTuqZR93BKg"
      }
    },
    {
      "cell_type": "code",
      "source": [
        "# dividing X, y into train and test data\n",
        "X_train, X_test, y_train, y_test = train_test_split(X, y, random_state = 0)"
      ],
      "metadata": {
        "id": "LV_ElSja41FJ"
      },
      "execution_count": 157,
      "outputs": []
    },
    {
      "cell_type": "markdown",
      "source": [
        "Decision Tree Classifier"
      ],
      "metadata": {
        "id": "yPoGsfA45D77"
      }
    },
    {
      "cell_type": "code",
      "source": [
        "# training a DescisionTreeClassifier\n",
        "from sklearn.tree import DecisionTreeClassifier\n",
        "dtree_model = DecisionTreeClassifier(max_depth = 2).fit(X_train, y_train)\n",
        "dtree_predictions = dtree_model.predict(X_test)\n",
        " \n",
        "# creating a confusion matrix\n",
        "cm = confusion_matrix(y_test, dtree_predictions)\n",
        "\n",
        "# Matthew’s correlation coefficient for multiclass classification\n",
        "print(matthews_corrcoef(y_test, dtree_predictions))"
      ],
      "metadata": {
        "colab": {
          "base_uri": "https://localhost:8080/"
        },
        "id": "RrGobDMy5Gi-",
        "outputId": "2ac3e257-edbf-4658-abaa-7163738796e6"
      },
      "execution_count": 167,
      "outputs": [
        {
          "output_type": "stream",
          "name": "stdout",
          "text": [
            "1.0\n"
          ]
        }
      ]
    },
    {
      "cell_type": "markdown",
      "source": [
        "Support Vector Machine (SVM) Classifier"
      ],
      "metadata": {
        "id": "6YRUkDXS5RN7"
      }
    },
    {
      "cell_type": "code",
      "source": [
        "# training a linear SVM classifier\n",
        "from sklearn.svm import SVC\n",
        "svm_model_linear = SVC(kernel = 'linear', C = 1).fit(X_train, y_train)\n",
        "svm_predictions = svm_model_linear.predict(X_test)\n",
        " \n",
        "# model accuracy for X_test \n",
        "accuracy = svm_model_linear.score(X_test, y_test)\n",
        " \n",
        "# creating a confusion matrix\n",
        "cm = confusion_matrix(y_test, svm_predictions)\n",
        "\n",
        "# Matthew’s correlation coefficient for multiclass classification\n",
        "print(matthews_corrcoef(y_test, svm_predictions))"
      ],
      "metadata": {
        "colab": {
          "base_uri": "https://localhost:8080/"
        },
        "id": "RbEab-8x5Uby",
        "outputId": "60ba805c-c0e1-4e3c-bcc9-aca44a64e5ef"
      },
      "execution_count": 168,
      "outputs": [
        {
          "output_type": "stream",
          "name": "stdout",
          "text": [
            "0.901938177601926\n"
          ]
        }
      ]
    },
    {
      "cell_type": "markdown",
      "source": [
        "K-nearest neighbors (KNN) Classifier"
      ],
      "metadata": {
        "id": "vPvKzZFy5bpr"
      }
    },
    {
      "cell_type": "code",
      "source": [
        "# training a KNN classifier\n",
        "from sklearn.neighbors import KNeighborsClassifier\n",
        "knn = KNeighborsClassifier(n_neighbors = 7).fit(X_train, y_train)\n",
        " \n",
        "# creating a confusion matrix\n",
        "knn_predictions = knn.predict(X_test)\n",
        "cm = confusion_matrix(y_test, knn_predictions)\n",
        "\n",
        "# Matthew’s correlation coefficient for multiclass classification\n",
        "print(matthews_corrcoef(y_test, knn_predictions))"
      ],
      "metadata": {
        "colab": {
          "base_uri": "https://localhost:8080/"
        },
        "id": "ahquKAcD5gka",
        "outputId": "e35b1f4f-86a6-44ee-cc7f-db21ac3935e1"
      },
      "execution_count": 170,
      "outputs": [
        {
          "output_type": "stream",
          "name": "stdout",
          "text": [
            "0.08941753609597851\n"
          ]
        }
      ]
    },
    {
      "cell_type": "markdown",
      "source": [
        "Naive Bayes Classifier"
      ],
      "metadata": {
        "id": "Q_Gm7A8W5qG4"
      }
    },
    {
      "cell_type": "code",
      "source": [
        "# training a Naive Bayes classifier\n",
        "from sklearn.naive_bayes import GaussianNB\n",
        "gnb = GaussianNB().fit(X_train, y_train)\n",
        "gnb_predictions = gnb.predict(X_test)\n",
        " \n",
        "# creating a confusion matrix\n",
        "cm = confusion_matrix(y_test, gnb_predictions)\n",
        "\n",
        "# Matthew’s correlation coefficient for multiclass classification\n",
        "print(matthews_corrcoef(y_test, gnb_predictions))"
      ],
      "metadata": {
        "colab": {
          "base_uri": "https://localhost:8080/"
        },
        "id": "-Cn8wFVO5tVK",
        "outputId": "4e5e4911-4af1-4771-a305-907ebed46801"
      },
      "execution_count": 172,
      "outputs": [
        {
          "output_type": "stream",
          "name": "stdout",
          "text": [
            "0.8878276907768553\n"
          ]
        }
      ]
    },
    {
      "cell_type": "markdown",
      "source": [
        "#Conclusion"
      ],
      "metadata": {
        "id": "5NhIjWS9A3LN"
      }
    },
    {
      "cell_type": "markdown",
      "source": [
        "Accuracy and F1 score computed on confusion matrices have been (and still are) among the most popular adopted metrics in binary classification tasks. However, these statistical measures can dangerously show overoptimistic inflated results, especially on imbalanced datasets. \n",
        "\n",
        "The Matthews correlation coefficient (MCC), instead, is a more reliable statistical rate which produces a high score only if the prediction obtained good results in all of the four confusion matrix categories (true positives, false negatives, true negatives, and false positives), proportionally both to the size of positive elements and the size of negative elements in the dataset.\n"
      ],
      "metadata": {
        "id": "xeGgRmUFBShx"
      }
    },
    {
      "cell_type": "markdown",
      "source": [
        "![image.png](data:image/png;base64,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)"
      ],
      "metadata": {
        "id": "c0JIc9qRA6Ai"
      }
    },
    {
      "cell_type": "markdown",
      "source": [
        "Decision Tree Classifier has the highest MCC score of 1 implying it is the best suited classification algorithm for the given data.\n",
        "KNN, on the other hand has the least MCC score."
      ],
      "metadata": {
        "id": "gDSM5zucBD9F"
      }
    }
  ]
}