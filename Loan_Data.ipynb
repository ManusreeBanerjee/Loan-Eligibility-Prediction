{
  "nbformat": 4,
  "nbformat_minor": 0,
  "metadata": {
    "colab": {
      "name": "Loan Data.ipynb",
      "provenance": []
    },
    "kernelspec": {
      "name": "python3",
      "display_name": "Python 3"
    },
    "language_info": {
      "name": "python"
    }
  },
  "cells": [
    {
      "cell_type": "markdown",
      "metadata": {
        "id": "kWNTbAPk-xcG"
      },
      "source": [
        "## Perform Exploratory Data Analysis on the data set\n",
        "\n",
        "### I- Assessing\n",
        "In this stage we display the data we're going to import to assess its Quality and Tidiness.\n",
        "\n",
        "Quality dimensions or aspects are mainly:\n",
        "\n",
        "**1**- Completness (checking if there are any missing records).\n",
        "\n",
        "**2**- Validity (Checking if the values displayed are 'valid' i.e data that follow certain known rules)\n",
        "\n",
        "**3**- Accuracy (a significant decrease or increase in a value is considered an 'inaccurate data')\n",
        "\n",
        "**4**- Consistency (There should be only one way to represent or refer to a value otherwise the data is called to be 'inconsistent')"
      ]
    },
    {
      "cell_type": "code",
      "source": [
        "import pandas as pd\n",
        "import matplotlib.pyplot as plt\n",
        "import seaborn as sns\n",
        "import math\n",
        "import numpy as np\n",
        "data =pd.read_csv('loansData.csv')\n",
        "data.shape"
      ],
      "metadata": {
        "colab": {
          "base_uri": "https://localhost:8080/"
        },
        "id": "OhaX7pT0QMQt",
        "outputId": "0990a710-e01f-48f5-bad4-3fa3ff8b6583"
      },
      "execution_count": 1,
      "outputs": [
        {
          "output_type": "execute_result",
          "data": {
            "text/plain": [
              "(2500, 15)"
            ]
          },
          "metadata": {},
          "execution_count": 1
        }
      ]
    },
    {
      "cell_type": "code",
      "source": [
        "data.info()"
      ],
      "metadata": {
        "colab": {
          "base_uri": "https://localhost:8080/"
        },
        "id": "Ho2XAskzQYGH",
        "outputId": "05a36408-bd23-4532-aa84-d87484825d65"
      },
      "execution_count": 2,
      "outputs": [
        {
          "output_type": "stream",
          "name": "stdout",
          "text": [
            "<class 'pandas.core.frame.DataFrame'>\n",
            "RangeIndex: 2500 entries, 0 to 2499\n",
            "Data columns (total 15 columns):\n",
            " #   Column                          Non-Null Count  Dtype  \n",
            "---  ------                          --------------  -----  \n",
            " 0   CustID                          2500 non-null   int64  \n",
            " 1   Amount.Requested                2500 non-null   int64  \n",
            " 2   Amount.Funded.By.Investors      2500 non-null   float64\n",
            " 3   Interest.Rate                   2500 non-null   object \n",
            " 4   Loan.Length                     2500 non-null   object \n",
            " 5   Loan.Purpose                    2500 non-null   object \n",
            " 6   Debt.To.Income.Ratio            2500 non-null   object \n",
            " 7   State                           2500 non-null   object \n",
            " 8   Home.Ownership                  2500 non-null   object \n",
            " 9   Monthly.Income                  2499 non-null   float64\n",
            " 10  FICO.Range                      2500 non-null   object \n",
            " 11  Open.CREDIT.Lines               2498 non-null   float64\n",
            " 12  Revolving.CREDIT.Balance        2498 non-null   float64\n",
            " 13  Inquiries.in.the.Last.6.Months  2498 non-null   float64\n",
            " 14  Employment.Length               2423 non-null   object \n",
            "dtypes: float64(5), int64(2), object(8)\n",
            "memory usage: 293.1+ KB\n"
          ]
        }
      ]
    },
    {
      "cell_type": "code",
      "source": [
        "data.head(5)"
      ],
      "metadata": {
        "colab": {
          "base_uri": "https://localhost:8080/",
          "height": 270
        },
        "id": "fIdOWbHoQaNi",
        "outputId": "86b084d7-7422-4a8e-b604-9898438c1337"
      },
      "execution_count": 3,
      "outputs": [
        {
          "output_type": "execute_result",
          "data": {
            "text/plain": [
              "   CustID  Amount.Requested  Amount.Funded.By.Investors Interest.Rate  \\\n",
              "0   81174             20000                     20000.0         8.90%   \n",
              "1   99592             19200                     19200.0        12.12%   \n",
              "2   80059             35000                     35000.0        21.98%   \n",
              "3   15825             10000                      9975.0         9.99%   \n",
              "4   33182             12000                     12000.0        11.71%   \n",
              "\n",
              "  Loan.Length        Loan.Purpose Debt.To.Income.Ratio State Home.Ownership  \\\n",
              "0   36 months  debt_consolidation               14.90%    SC       MORTGAGE   \n",
              "1   36 months  debt_consolidation               28.36%    TX       MORTGAGE   \n",
              "2   60 months  debt_consolidation               23.81%    CA       MORTGAGE   \n",
              "3   36 months  debt_consolidation               14.30%    KS       MORTGAGE   \n",
              "4   36 months         credit_card               18.78%    NJ           RENT   \n",
              "\n",
              "   Monthly.Income FICO.Range  Open.CREDIT.Lines  Revolving.CREDIT.Balance  \\\n",
              "0         6541.67    735-739               14.0                   14272.0   \n",
              "1         4583.33    715-719               12.0                   11140.0   \n",
              "2        11500.00    690-694               14.0                   21977.0   \n",
              "3         3833.33    695-699               10.0                    9346.0   \n",
              "4         3195.00    695-699               11.0                   14469.0   \n",
              "\n",
              "   Inquiries.in.the.Last.6.Months Employment.Length  \n",
              "0                             2.0          < 1 year  \n",
              "1                             1.0           2 years  \n",
              "2                             1.0           2 years  \n",
              "3                             0.0           5 years  \n",
              "4                             0.0           9 years  "
            ],
            "text/html": [
              "\n",
              "  <div id=\"df-9514ccda-cc7c-4224-a161-5cdc8260e0b9\">\n",
              "    <div class=\"colab-df-container\">\n",
              "      <div>\n",
              "<style scoped>\n",
              "    .dataframe tbody tr th:only-of-type {\n",
              "        vertical-align: middle;\n",
              "    }\n",
              "\n",
              "    .dataframe tbody tr th {\n",
              "        vertical-align: top;\n",
              "    }\n",
              "\n",
              "    .dataframe thead th {\n",
              "        text-align: right;\n",
              "    }\n",
              "</style>\n",
              "<table border=\"1\" class=\"dataframe\">\n",
              "  <thead>\n",
              "    <tr style=\"text-align: right;\">\n",
              "      <th></th>\n",
              "      <th>CustID</th>\n",
              "      <th>Amount.Requested</th>\n",
              "      <th>Amount.Funded.By.Investors</th>\n",
              "      <th>Interest.Rate</th>\n",
              "      <th>Loan.Length</th>\n",
              "      <th>Loan.Purpose</th>\n",
              "      <th>Debt.To.Income.Ratio</th>\n",
              "      <th>State</th>\n",
              "      <th>Home.Ownership</th>\n",
              "      <th>Monthly.Income</th>\n",
              "      <th>FICO.Range</th>\n",
              "      <th>Open.CREDIT.Lines</th>\n",
              "      <th>Revolving.CREDIT.Balance</th>\n",
              "      <th>Inquiries.in.the.Last.6.Months</th>\n",
              "      <th>Employment.Length</th>\n",
              "    </tr>\n",
              "  </thead>\n",
              "  <tbody>\n",
              "    <tr>\n",
              "      <th>0</th>\n",
              "      <td>81174</td>\n",
              "      <td>20000</td>\n",
              "      <td>20000.0</td>\n",
              "      <td>8.90%</td>\n",
              "      <td>36 months</td>\n",
              "      <td>debt_consolidation</td>\n",
              "      <td>14.90%</td>\n",
              "      <td>SC</td>\n",
              "      <td>MORTGAGE</td>\n",
              "      <td>6541.67</td>\n",
              "      <td>735-739</td>\n",
              "      <td>14.0</td>\n",
              "      <td>14272.0</td>\n",
              "      <td>2.0</td>\n",
              "      <td>&lt; 1 year</td>\n",
              "    </tr>\n",
              "    <tr>\n",
              "      <th>1</th>\n",
              "      <td>99592</td>\n",
              "      <td>19200</td>\n",
              "      <td>19200.0</td>\n",
              "      <td>12.12%</td>\n",
              "      <td>36 months</td>\n",
              "      <td>debt_consolidation</td>\n",
              "      <td>28.36%</td>\n",
              "      <td>TX</td>\n",
              "      <td>MORTGAGE</td>\n",
              "      <td>4583.33</td>\n",
              "      <td>715-719</td>\n",
              "      <td>12.0</td>\n",
              "      <td>11140.0</td>\n",
              "      <td>1.0</td>\n",
              "      <td>2 years</td>\n",
              "    </tr>\n",
              "    <tr>\n",
              "      <th>2</th>\n",
              "      <td>80059</td>\n",
              "      <td>35000</td>\n",
              "      <td>35000.0</td>\n",
              "      <td>21.98%</td>\n",
              "      <td>60 months</td>\n",
              "      <td>debt_consolidation</td>\n",
              "      <td>23.81%</td>\n",
              "      <td>CA</td>\n",
              "      <td>MORTGAGE</td>\n",
              "      <td>11500.00</td>\n",
              "      <td>690-694</td>\n",
              "      <td>14.0</td>\n",
              "      <td>21977.0</td>\n",
              "      <td>1.0</td>\n",
              "      <td>2 years</td>\n",
              "    </tr>\n",
              "    <tr>\n",
              "      <th>3</th>\n",
              "      <td>15825</td>\n",
              "      <td>10000</td>\n",
              "      <td>9975.0</td>\n",
              "      <td>9.99%</td>\n",
              "      <td>36 months</td>\n",
              "      <td>debt_consolidation</td>\n",
              "      <td>14.30%</td>\n",
              "      <td>KS</td>\n",
              "      <td>MORTGAGE</td>\n",
              "      <td>3833.33</td>\n",
              "      <td>695-699</td>\n",
              "      <td>10.0</td>\n",
              "      <td>9346.0</td>\n",
              "      <td>0.0</td>\n",
              "      <td>5 years</td>\n",
              "    </tr>\n",
              "    <tr>\n",
              "      <th>4</th>\n",
              "      <td>33182</td>\n",
              "      <td>12000</td>\n",
              "      <td>12000.0</td>\n",
              "      <td>11.71%</td>\n",
              "      <td>36 months</td>\n",
              "      <td>credit_card</td>\n",
              "      <td>18.78%</td>\n",
              "      <td>NJ</td>\n",
              "      <td>RENT</td>\n",
              "      <td>3195.00</td>\n",
              "      <td>695-699</td>\n",
              "      <td>11.0</td>\n",
              "      <td>14469.0</td>\n",
              "      <td>0.0</td>\n",
              "      <td>9 years</td>\n",
              "    </tr>\n",
              "  </tbody>\n",
              "</table>\n",
              "</div>\n",
              "      <button class=\"colab-df-convert\" onclick=\"convertToInteractive('df-9514ccda-cc7c-4224-a161-5cdc8260e0b9')\"\n",
              "              title=\"Convert this dataframe to an interactive table.\"\n",
              "              style=\"display:none;\">\n",
              "        \n",
              "  <svg xmlns=\"http://www.w3.org/2000/svg\" height=\"24px\"viewBox=\"0 0 24 24\"\n",
              "       width=\"24px\">\n",
              "    <path d=\"M0 0h24v24H0V0z\" fill=\"none\"/>\n",
              "    <path d=\"M18.56 5.44l.94 2.06.94-2.06 2.06-.94-2.06-.94-.94-2.06-.94 2.06-2.06.94zm-11 1L8.5 8.5l.94-2.06 2.06-.94-2.06-.94L8.5 2.5l-.94 2.06-2.06.94zm10 10l.94 2.06.94-2.06 2.06-.94-2.06-.94-.94-2.06-.94 2.06-2.06.94z\"/><path d=\"M17.41 7.96l-1.37-1.37c-.4-.4-.92-.59-1.43-.59-.52 0-1.04.2-1.43.59L10.3 9.45l-7.72 7.72c-.78.78-.78 2.05 0 2.83L4 21.41c.39.39.9.59 1.41.59.51 0 1.02-.2 1.41-.59l7.78-7.78 2.81-2.81c.8-.78.8-2.07 0-2.86zM5.41 20L4 18.59l7.72-7.72 1.47 1.35L5.41 20z\"/>\n",
              "  </svg>\n",
              "      </button>\n",
              "      \n",
              "  <style>\n",
              "    .colab-df-container {\n",
              "      display:flex;\n",
              "      flex-wrap:wrap;\n",
              "      gap: 12px;\n",
              "    }\n",
              "\n",
              "    .colab-df-convert {\n",
              "      background-color: #E8F0FE;\n",
              "      border: none;\n",
              "      border-radius: 50%;\n",
              "      cursor: pointer;\n",
              "      display: none;\n",
              "      fill: #1967D2;\n",
              "      height: 32px;\n",
              "      padding: 0 0 0 0;\n",
              "      width: 32px;\n",
              "    }\n",
              "\n",
              "    .colab-df-convert:hover {\n",
              "      background-color: #E2EBFA;\n",
              "      box-shadow: 0px 1px 2px rgba(60, 64, 67, 0.3), 0px 1px 3px 1px rgba(60, 64, 67, 0.15);\n",
              "      fill: #174EA6;\n",
              "    }\n",
              "\n",
              "    [theme=dark] .colab-df-convert {\n",
              "      background-color: #3B4455;\n",
              "      fill: #D2E3FC;\n",
              "    }\n",
              "\n",
              "    [theme=dark] .colab-df-convert:hover {\n",
              "      background-color: #434B5C;\n",
              "      box-shadow: 0px 1px 3px 1px rgba(0, 0, 0, 0.15);\n",
              "      filter: drop-shadow(0px 1px 2px rgba(0, 0, 0, 0.3));\n",
              "      fill: #FFFFFF;\n",
              "    }\n",
              "  </style>\n",
              "\n",
              "      <script>\n",
              "        const buttonEl =\n",
              "          document.querySelector('#df-9514ccda-cc7c-4224-a161-5cdc8260e0b9 button.colab-df-convert');\n",
              "        buttonEl.style.display =\n",
              "          google.colab.kernel.accessAllowed ? 'block' : 'none';\n",
              "\n",
              "        async function convertToInteractive(key) {\n",
              "          const element = document.querySelector('#df-9514ccda-cc7c-4224-a161-5cdc8260e0b9');\n",
              "          const dataTable =\n",
              "            await google.colab.kernel.invokeFunction('convertToInteractive',\n",
              "                                                     [key], {});\n",
              "          if (!dataTable) return;\n",
              "\n",
              "          const docLinkHtml = 'Like what you see? Visit the ' +\n",
              "            '<a target=\"_blank\" href=https://colab.research.google.com/notebooks/data_table.ipynb>data table notebook</a>'\n",
              "            + ' to learn more about interactive tables.';\n",
              "          element.innerHTML = '';\n",
              "          dataTable['output_type'] = 'display_data';\n",
              "          await google.colab.output.renderOutput(dataTable, element);\n",
              "          const docLink = document.createElement('div');\n",
              "          docLink.innerHTML = docLinkHtml;\n",
              "          element.appendChild(docLink);\n",
              "        }\n",
              "      </script>\n",
              "    </div>\n",
              "  </div>\n",
              "  "
            ]
          },
          "metadata": {},
          "execution_count": 3
        }
      ]
    },
    {
      "cell_type": "code",
      "source": [
        "data.tail(5)"
      ],
      "metadata": {
        "colab": {
          "base_uri": "https://localhost:8080/",
          "height": 270
        },
        "id": "uSC33DXeQeCR",
        "outputId": "1447ddaf-9279-4d9c-c4c6-7df3d8003407"
      },
      "execution_count": 4,
      "outputs": [
        {
          "output_type": "execute_result",
          "data": {
            "text/plain": [
              "      CustID  Amount.Requested  Amount.Funded.By.Investors Interest.Rate  \\\n",
              "2495   23735             30000                    29950.00        16.77%   \n",
              "2496   65882             16000                    16000.00        14.09%   \n",
              "2497   55610             10000                    10000.00        13.99%   \n",
              "2498   38576              6000                     6000.00        12.42%   \n",
              "2499    3116              9000                     5242.75        13.79%   \n",
              "\n",
              "     Loan.Length        Loan.Purpose Debt.To.Income.Ratio State  \\\n",
              "2495   60 months  debt_consolidation               19.23%    NY   \n",
              "2496   60 months    home_improvement               21.54%    MD   \n",
              "2497   36 months  debt_consolidation                4.89%    PA   \n",
              "2498   36 months      major_purchase               16.66%    NJ   \n",
              "2499   36 months  debt_consolidation                6.76%    NY   \n",
              "\n",
              "     Home.Ownership  Monthly.Income FICO.Range  Open.CREDIT.Lines  \\\n",
              "2495       MORTGAGE         9250.00    705-709               15.0   \n",
              "2496            OWN         8903.25    740-744               18.0   \n",
              "2497       MORTGAGE         2166.67    680-684                4.0   \n",
              "2498           RENT         3500.00    675-679                8.0   \n",
              "2499           RENT         3875.00    670-674                7.0   \n",
              "\n",
              "      Revolving.CREDIT.Balance  Inquiries.in.the.Last.6.Months  \\\n",
              "2495                   45880.0                             1.0   \n",
              "2496                   18898.0                             1.0   \n",
              "2497                    4544.0                             0.0   \n",
              "2498                    7753.0                             0.0   \n",
              "2499                    7589.0                             0.0   \n",
              "\n",
              "     Employment.Length  \n",
              "2495           8 years  \n",
              "2496         10+ years  \n",
              "2497         10+ years  \n",
              "2498           5 years  \n",
              "2499         10+ years  "
            ],
            "text/html": [
              "\n",
              "  <div id=\"df-b85ee990-47af-4536-bb65-f2df1d1e8631\">\n",
              "    <div class=\"colab-df-container\">\n",
              "      <div>\n",
              "<style scoped>\n",
              "    .dataframe tbody tr th:only-of-type {\n",
              "        vertical-align: middle;\n",
              "    }\n",
              "\n",
              "    .dataframe tbody tr th {\n",
              "        vertical-align: top;\n",
              "    }\n",
              "\n",
              "    .dataframe thead th {\n",
              "        text-align: right;\n",
              "    }\n",
              "</style>\n",
              "<table border=\"1\" class=\"dataframe\">\n",
              "  <thead>\n",
              "    <tr style=\"text-align: right;\">\n",
              "      <th></th>\n",
              "      <th>CustID</th>\n",
              "      <th>Amount.Requested</th>\n",
              "      <th>Amount.Funded.By.Investors</th>\n",
              "      <th>Interest.Rate</th>\n",
              "      <th>Loan.Length</th>\n",
              "      <th>Loan.Purpose</th>\n",
              "      <th>Debt.To.Income.Ratio</th>\n",
              "      <th>State</th>\n",
              "      <th>Home.Ownership</th>\n",
              "      <th>Monthly.Income</th>\n",
              "      <th>FICO.Range</th>\n",
              "      <th>Open.CREDIT.Lines</th>\n",
              "      <th>Revolving.CREDIT.Balance</th>\n",
              "      <th>Inquiries.in.the.Last.6.Months</th>\n",
              "      <th>Employment.Length</th>\n",
              "    </tr>\n",
              "  </thead>\n",
              "  <tbody>\n",
              "    <tr>\n",
              "      <th>2495</th>\n",
              "      <td>23735</td>\n",
              "      <td>30000</td>\n",
              "      <td>29950.00</td>\n",
              "      <td>16.77%</td>\n",
              "      <td>60 months</td>\n",
              "      <td>debt_consolidation</td>\n",
              "      <td>19.23%</td>\n",
              "      <td>NY</td>\n",
              "      <td>MORTGAGE</td>\n",
              "      <td>9250.00</td>\n",
              "      <td>705-709</td>\n",
              "      <td>15.0</td>\n",
              "      <td>45880.0</td>\n",
              "      <td>1.0</td>\n",
              "      <td>8 years</td>\n",
              "    </tr>\n",
              "    <tr>\n",
              "      <th>2496</th>\n",
              "      <td>65882</td>\n",
              "      <td>16000</td>\n",
              "      <td>16000.00</td>\n",
              "      <td>14.09%</td>\n",
              "      <td>60 months</td>\n",
              "      <td>home_improvement</td>\n",
              "      <td>21.54%</td>\n",
              "      <td>MD</td>\n",
              "      <td>OWN</td>\n",
              "      <td>8903.25</td>\n",
              "      <td>740-744</td>\n",
              "      <td>18.0</td>\n",
              "      <td>18898.0</td>\n",
              "      <td>1.0</td>\n",
              "      <td>10+ years</td>\n",
              "    </tr>\n",
              "    <tr>\n",
              "      <th>2497</th>\n",
              "      <td>55610</td>\n",
              "      <td>10000</td>\n",
              "      <td>10000.00</td>\n",
              "      <td>13.99%</td>\n",
              "      <td>36 months</td>\n",
              "      <td>debt_consolidation</td>\n",
              "      <td>4.89%</td>\n",
              "      <td>PA</td>\n",
              "      <td>MORTGAGE</td>\n",
              "      <td>2166.67</td>\n",
              "      <td>680-684</td>\n",
              "      <td>4.0</td>\n",
              "      <td>4544.0</td>\n",
              "      <td>0.0</td>\n",
              "      <td>10+ years</td>\n",
              "    </tr>\n",
              "    <tr>\n",
              "      <th>2498</th>\n",
              "      <td>38576</td>\n",
              "      <td>6000</td>\n",
              "      <td>6000.00</td>\n",
              "      <td>12.42%</td>\n",
              "      <td>36 months</td>\n",
              "      <td>major_purchase</td>\n",
              "      <td>16.66%</td>\n",
              "      <td>NJ</td>\n",
              "      <td>RENT</td>\n",
              "      <td>3500.00</td>\n",
              "      <td>675-679</td>\n",
              "      <td>8.0</td>\n",
              "      <td>7753.0</td>\n",
              "      <td>0.0</td>\n",
              "      <td>5 years</td>\n",
              "    </tr>\n",
              "    <tr>\n",
              "      <th>2499</th>\n",
              "      <td>3116</td>\n",
              "      <td>9000</td>\n",
              "      <td>5242.75</td>\n",
              "      <td>13.79%</td>\n",
              "      <td>36 months</td>\n",
              "      <td>debt_consolidation</td>\n",
              "      <td>6.76%</td>\n",
              "      <td>NY</td>\n",
              "      <td>RENT</td>\n",
              "      <td>3875.00</td>\n",
              "      <td>670-674</td>\n",
              "      <td>7.0</td>\n",
              "      <td>7589.0</td>\n",
              "      <td>0.0</td>\n",
              "      <td>10+ years</td>\n",
              "    </tr>\n",
              "  </tbody>\n",
              "</table>\n",
              "</div>\n",
              "      <button class=\"colab-df-convert\" onclick=\"convertToInteractive('df-b85ee990-47af-4536-bb65-f2df1d1e8631')\"\n",
              "              title=\"Convert this dataframe to an interactive table.\"\n",
              "              style=\"display:none;\">\n",
              "        \n",
              "  <svg xmlns=\"http://www.w3.org/2000/svg\" height=\"24px\"viewBox=\"0 0 24 24\"\n",
              "       width=\"24px\">\n",
              "    <path d=\"M0 0h24v24H0V0z\" fill=\"none\"/>\n",
              "    <path d=\"M18.56 5.44l.94 2.06.94-2.06 2.06-.94-2.06-.94-.94-2.06-.94 2.06-2.06.94zm-11 1L8.5 8.5l.94-2.06 2.06-.94-2.06-.94L8.5 2.5l-.94 2.06-2.06.94zm10 10l.94 2.06.94-2.06 2.06-.94-2.06-.94-.94-2.06-.94 2.06-2.06.94z\"/><path d=\"M17.41 7.96l-1.37-1.37c-.4-.4-.92-.59-1.43-.59-.52 0-1.04.2-1.43.59L10.3 9.45l-7.72 7.72c-.78.78-.78 2.05 0 2.83L4 21.41c.39.39.9.59 1.41.59.51 0 1.02-.2 1.41-.59l7.78-7.78 2.81-2.81c.8-.78.8-2.07 0-2.86zM5.41 20L4 18.59l7.72-7.72 1.47 1.35L5.41 20z\"/>\n",
              "  </svg>\n",
              "      </button>\n",
              "      \n",
              "  <style>\n",
              "    .colab-df-container {\n",
              "      display:flex;\n",
              "      flex-wrap:wrap;\n",
              "      gap: 12px;\n",
              "    }\n",
              "\n",
              "    .colab-df-convert {\n",
              "      background-color: #E8F0FE;\n",
              "      border: none;\n",
              "      border-radius: 50%;\n",
              "      cursor: pointer;\n",
              "      display: none;\n",
              "      fill: #1967D2;\n",
              "      height: 32px;\n",
              "      padding: 0 0 0 0;\n",
              "      width: 32px;\n",
              "    }\n",
              "\n",
              "    .colab-df-convert:hover {\n",
              "      background-color: #E2EBFA;\n",
              "      box-shadow: 0px 1px 2px rgba(60, 64, 67, 0.3), 0px 1px 3px 1px rgba(60, 64, 67, 0.15);\n",
              "      fill: #174EA6;\n",
              "    }\n",
              "\n",
              "    [theme=dark] .colab-df-convert {\n",
              "      background-color: #3B4455;\n",
              "      fill: #D2E3FC;\n",
              "    }\n",
              "\n",
              "    [theme=dark] .colab-df-convert:hover {\n",
              "      background-color: #434B5C;\n",
              "      box-shadow: 0px 1px 3px 1px rgba(0, 0, 0, 0.15);\n",
              "      filter: drop-shadow(0px 1px 2px rgba(0, 0, 0, 0.3));\n",
              "      fill: #FFFFFF;\n",
              "    }\n",
              "  </style>\n",
              "\n",
              "      <script>\n",
              "        const buttonEl =\n",
              "          document.querySelector('#df-b85ee990-47af-4536-bb65-f2df1d1e8631 button.colab-df-convert');\n",
              "        buttonEl.style.display =\n",
              "          google.colab.kernel.accessAllowed ? 'block' : 'none';\n",
              "\n",
              "        async function convertToInteractive(key) {\n",
              "          const element = document.querySelector('#df-b85ee990-47af-4536-bb65-f2df1d1e8631');\n",
              "          const dataTable =\n",
              "            await google.colab.kernel.invokeFunction('convertToInteractive',\n",
              "                                                     [key], {});\n",
              "          if (!dataTable) return;\n",
              "\n",
              "          const docLinkHtml = 'Like what you see? Visit the ' +\n",
              "            '<a target=\"_blank\" href=https://colab.research.google.com/notebooks/data_table.ipynb>data table notebook</a>'\n",
              "            + ' to learn more about interactive tables.';\n",
              "          element.innerHTML = '';\n",
              "          dataTable['output_type'] = 'display_data';\n",
              "          await google.colab.output.renderOutput(dataTable, element);\n",
              "          const docLink = document.createElement('div');\n",
              "          docLink.innerHTML = docLinkHtml;\n",
              "          element.appendChild(docLink);\n",
              "        }\n",
              "      </script>\n",
              "    </div>\n",
              "  </div>\n",
              "  "
            ]
          },
          "metadata": {},
          "execution_count": 4
        }
      ]
    },
    {
      "cell_type": "code",
      "source": [
        "data.describe()"
      ],
      "metadata": {
        "colab": {
          "base_uri": "https://localhost:8080/",
          "height": 364
        },
        "id": "e2Nuv4QaQgdD",
        "outputId": "23e1598a-8078-4999-b6a7-f4fa442afc76"
      },
      "execution_count": 5,
      "outputs": [
        {
          "output_type": "execute_result",
          "data": {
            "text/plain": [
              "              CustID  Amount.Requested  Amount.Funded.By.Investors  \\\n",
              "count    2500.000000       2500.000000                 2500.000000   \n",
              "mean    51631.597200      12406.500000                12001.573236   \n",
              "std     30053.345508       7801.544872                 7745.320754   \n",
              "min        10.000000       1000.000000                   -0.010000   \n",
              "25%     26523.000000       6000.000000                 6000.000000   \n",
              "50%     50653.000000      10000.000000                10000.000000   \n",
              "75%     77580.500000      17000.000000                16000.000000   \n",
              "max    104202.000000      35000.000000                35000.000000   \n",
              "\n",
              "       Monthly.Income  Open.CREDIT.Lines  Revolving.CREDIT.Balance  \\\n",
              "count     2499.000000        2498.000000               2498.000000   \n",
              "mean      5688.931321          10.075661              15244.559648   \n",
              "std       3963.118185           4.508644              18308.549795   \n",
              "min        588.500000           2.000000                  0.000000   \n",
              "25%       3500.000000           7.000000               5585.750000   \n",
              "50%       5000.000000           9.000000              10962.000000   \n",
              "75%       6800.000000          13.000000              18888.750000   \n",
              "max     102750.000000          38.000000             270800.000000   \n",
              "\n",
              "       Inquiries.in.the.Last.6.Months  \n",
              "count                     2498.000000  \n",
              "mean                         0.906325  \n",
              "std                          1.231036  \n",
              "min                          0.000000  \n",
              "25%                          0.000000  \n",
              "50%                          0.000000  \n",
              "75%                          1.000000  \n",
              "max                          9.000000  "
            ],
            "text/html": [
              "\n",
              "  <div id=\"df-418f8cdd-7b97-4605-b7bb-8c2da17b35d7\">\n",
              "    <div class=\"colab-df-container\">\n",
              "      <div>\n",
              "<style scoped>\n",
              "    .dataframe tbody tr th:only-of-type {\n",
              "        vertical-align: middle;\n",
              "    }\n",
              "\n",
              "    .dataframe tbody tr th {\n",
              "        vertical-align: top;\n",
              "    }\n",
              "\n",
              "    .dataframe thead th {\n",
              "        text-align: right;\n",
              "    }\n",
              "</style>\n",
              "<table border=\"1\" class=\"dataframe\">\n",
              "  <thead>\n",
              "    <tr style=\"text-align: right;\">\n",
              "      <th></th>\n",
              "      <th>CustID</th>\n",
              "      <th>Amount.Requested</th>\n",
              "      <th>Amount.Funded.By.Investors</th>\n",
              "      <th>Monthly.Income</th>\n",
              "      <th>Open.CREDIT.Lines</th>\n",
              "      <th>Revolving.CREDIT.Balance</th>\n",
              "      <th>Inquiries.in.the.Last.6.Months</th>\n",
              "    </tr>\n",
              "  </thead>\n",
              "  <tbody>\n",
              "    <tr>\n",
              "      <th>count</th>\n",
              "      <td>2500.000000</td>\n",
              "      <td>2500.000000</td>\n",
              "      <td>2500.000000</td>\n",
              "      <td>2499.000000</td>\n",
              "      <td>2498.000000</td>\n",
              "      <td>2498.000000</td>\n",
              "      <td>2498.000000</td>\n",
              "    </tr>\n",
              "    <tr>\n",
              "      <th>mean</th>\n",
              "      <td>51631.597200</td>\n",
              "      <td>12406.500000</td>\n",
              "      <td>12001.573236</td>\n",
              "      <td>5688.931321</td>\n",
              "      <td>10.075661</td>\n",
              "      <td>15244.559648</td>\n",
              "      <td>0.906325</td>\n",
              "    </tr>\n",
              "    <tr>\n",
              "      <th>std</th>\n",
              "      <td>30053.345508</td>\n",
              "      <td>7801.544872</td>\n",
              "      <td>7745.320754</td>\n",
              "      <td>3963.118185</td>\n",
              "      <td>4.508644</td>\n",
              "      <td>18308.549795</td>\n",
              "      <td>1.231036</td>\n",
              "    </tr>\n",
              "    <tr>\n",
              "      <th>min</th>\n",
              "      <td>10.000000</td>\n",
              "      <td>1000.000000</td>\n",
              "      <td>-0.010000</td>\n",
              "      <td>588.500000</td>\n",
              "      <td>2.000000</td>\n",
              "      <td>0.000000</td>\n",
              "      <td>0.000000</td>\n",
              "    </tr>\n",
              "    <tr>\n",
              "      <th>25%</th>\n",
              "      <td>26523.000000</td>\n",
              "      <td>6000.000000</td>\n",
              "      <td>6000.000000</td>\n",
              "      <td>3500.000000</td>\n",
              "      <td>7.000000</td>\n",
              "      <td>5585.750000</td>\n",
              "      <td>0.000000</td>\n",
              "    </tr>\n",
              "    <tr>\n",
              "      <th>50%</th>\n",
              "      <td>50653.000000</td>\n",
              "      <td>10000.000000</td>\n",
              "      <td>10000.000000</td>\n",
              "      <td>5000.000000</td>\n",
              "      <td>9.000000</td>\n",
              "      <td>10962.000000</td>\n",
              "      <td>0.000000</td>\n",
              "    </tr>\n",
              "    <tr>\n",
              "      <th>75%</th>\n",
              "      <td>77580.500000</td>\n",
              "      <td>17000.000000</td>\n",
              "      <td>16000.000000</td>\n",
              "      <td>6800.000000</td>\n",
              "      <td>13.000000</td>\n",
              "      <td>18888.750000</td>\n",
              "      <td>1.000000</td>\n",
              "    </tr>\n",
              "    <tr>\n",
              "      <th>max</th>\n",
              "      <td>104202.000000</td>\n",
              "      <td>35000.000000</td>\n",
              "      <td>35000.000000</td>\n",
              "      <td>102750.000000</td>\n",
              "      <td>38.000000</td>\n",
              "      <td>270800.000000</td>\n",
              "      <td>9.000000</td>\n",
              "    </tr>\n",
              "  </tbody>\n",
              "</table>\n",
              "</div>\n",
              "      <button class=\"colab-df-convert\" onclick=\"convertToInteractive('df-418f8cdd-7b97-4605-b7bb-8c2da17b35d7')\"\n",
              "              title=\"Convert this dataframe to an interactive table.\"\n",
              "              style=\"display:none;\">\n",
              "        \n",
              "  <svg xmlns=\"http://www.w3.org/2000/svg\" height=\"24px\"viewBox=\"0 0 24 24\"\n",
              "       width=\"24px\">\n",
              "    <path d=\"M0 0h24v24H0V0z\" fill=\"none\"/>\n",
              "    <path d=\"M18.56 5.44l.94 2.06.94-2.06 2.06-.94-2.06-.94-.94-2.06-.94 2.06-2.06.94zm-11 1L8.5 8.5l.94-2.06 2.06-.94-2.06-.94L8.5 2.5l-.94 2.06-2.06.94zm10 10l.94 2.06.94-2.06 2.06-.94-2.06-.94-.94-2.06-.94 2.06-2.06.94z\"/><path d=\"M17.41 7.96l-1.37-1.37c-.4-.4-.92-.59-1.43-.59-.52 0-1.04.2-1.43.59L10.3 9.45l-7.72 7.72c-.78.78-.78 2.05 0 2.83L4 21.41c.39.39.9.59 1.41.59.51 0 1.02-.2 1.41-.59l7.78-7.78 2.81-2.81c.8-.78.8-2.07 0-2.86zM5.41 20L4 18.59l7.72-7.72 1.47 1.35L5.41 20z\"/>\n",
              "  </svg>\n",
              "      </button>\n",
              "      \n",
              "  <style>\n",
              "    .colab-df-container {\n",
              "      display:flex;\n",
              "      flex-wrap:wrap;\n",
              "      gap: 12px;\n",
              "    }\n",
              "\n",
              "    .colab-df-convert {\n",
              "      background-color: #E8F0FE;\n",
              "      border: none;\n",
              "      border-radius: 50%;\n",
              "      cursor: pointer;\n",
              "      display: none;\n",
              "      fill: #1967D2;\n",
              "      height: 32px;\n",
              "      padding: 0 0 0 0;\n",
              "      width: 32px;\n",
              "    }\n",
              "\n",
              "    .colab-df-convert:hover {\n",
              "      background-color: #E2EBFA;\n",
              "      box-shadow: 0px 1px 2px rgba(60, 64, 67, 0.3), 0px 1px 3px 1px rgba(60, 64, 67, 0.15);\n",
              "      fill: #174EA6;\n",
              "    }\n",
              "\n",
              "    [theme=dark] .colab-df-convert {\n",
              "      background-color: #3B4455;\n",
              "      fill: #D2E3FC;\n",
              "    }\n",
              "\n",
              "    [theme=dark] .colab-df-convert:hover {\n",
              "      background-color: #434B5C;\n",
              "      box-shadow: 0px 1px 3px 1px rgba(0, 0, 0, 0.15);\n",
              "      filter: drop-shadow(0px 1px 2px rgba(0, 0, 0, 0.3));\n",
              "      fill: #FFFFFF;\n",
              "    }\n",
              "  </style>\n",
              "\n",
              "      <script>\n",
              "        const buttonEl =\n",
              "          document.querySelector('#df-418f8cdd-7b97-4605-b7bb-8c2da17b35d7 button.colab-df-convert');\n",
              "        buttonEl.style.display =\n",
              "          google.colab.kernel.accessAllowed ? 'block' : 'none';\n",
              "\n",
              "        async function convertToInteractive(key) {\n",
              "          const element = document.querySelector('#df-418f8cdd-7b97-4605-b7bb-8c2da17b35d7');\n",
              "          const dataTable =\n",
              "            await google.colab.kernel.invokeFunction('convertToInteractive',\n",
              "                                                     [key], {});\n",
              "          if (!dataTable) return;\n",
              "\n",
              "          const docLinkHtml = 'Like what you see? Visit the ' +\n",
              "            '<a target=\"_blank\" href=https://colab.research.google.com/notebooks/data_table.ipynb>data table notebook</a>'\n",
              "            + ' to learn more about interactive tables.';\n",
              "          element.innerHTML = '';\n",
              "          dataTable['output_type'] = 'display_data';\n",
              "          await google.colab.output.renderOutput(dataTable, element);\n",
              "          const docLink = document.createElement('div');\n",
              "          docLink.innerHTML = docLinkHtml;\n",
              "          element.appendChild(docLink);\n",
              "        }\n",
              "      </script>\n",
              "    </div>\n",
              "  </div>\n",
              "  "
            ]
          },
          "metadata": {},
          "execution_count": 5
        }
      ]
    },
    {
      "cell_type": "markdown",
      "source": [
        "# Check for missing values"
      ],
      "metadata": {
        "id": "fwgsztcNddRE"
      }
    },
    {
      "cell_type": "code",
      "source": [
        "# using isnull() function  \n",
        "data.isnull().sum()"
      ],
      "metadata": {
        "colab": {
          "base_uri": "https://localhost:8080/"
        },
        "id": "_f3snX4gdg5R",
        "outputId": "607ccec8-a43c-4fcd-8e87-6c96823057fa"
      },
      "execution_count": 6,
      "outputs": [
        {
          "output_type": "execute_result",
          "data": {
            "text/plain": [
              "CustID                             0\n",
              "Amount.Requested                   0\n",
              "Amount.Funded.By.Investors         0\n",
              "Interest.Rate                      0\n",
              "Loan.Length                        0\n",
              "Loan.Purpose                       0\n",
              "Debt.To.Income.Ratio               0\n",
              "State                              0\n",
              "Home.Ownership                     0\n",
              "Monthly.Income                     1\n",
              "FICO.Range                         0\n",
              "Open.CREDIT.Lines                  2\n",
              "Revolving.CREDIT.Balance           2\n",
              "Inquiries.in.the.Last.6.Months     2\n",
              "Employment.Length                 77\n",
              "dtype: int64"
            ]
          },
          "metadata": {},
          "execution_count": 6
        }
      ]
    },
    {
      "cell_type": "markdown",
      "source": [
        "Replace missing Monthly.Income with median \n",
        "\n",
        "\n",
        "> Since income has a skewed distribution it is better to perform median imputation as compared to mean or mode.\n",
        "\n"
      ],
      "metadata": {
        "id": "o1JCTJTAduXu"
      }
    },
    {
      "cell_type": "code",
      "source": [
        "median_income = data['Monthly.Income'].median()\n",
        "data['Monthly.Income'].fillna(median_income, inplace=True)"
      ],
      "metadata": {
        "id": "QQ6a74GQej3S"
      },
      "execution_count": 7,
      "outputs": []
    },
    {
      "cell_type": "markdown",
      "source": [
        "Impute Open.CREDIT.Lines, Revolving.CREDIT.Balance, Inquiries.in.the.Last.6.Months, Employment.Length using Mean"
      ],
      "metadata": {
        "id": "DkVxhatdfkVd"
      }
    },
    {
      "cell_type": "code",
      "source": [
        "data['Open.CREDIT.Lines'].fillna(data['Open.CREDIT.Lines'].mean(), inplace=True)\n",
        "data['Revolving.CREDIT.Balance'].fillna(data['Revolving.CREDIT.Balance'].mean(), inplace=True)\n",
        "data['Inquiries.in.the.Last.6.Months'].fillna(data['Inquiries.in.the.Last.6.Months'].mean(), inplace=True)\n",
        "data['Inquiries.in.the.Last.6.Months'].fillna(data['Inquiries.in.the.Last.6.Months'].mean(), inplace=True)"
      ],
      "metadata": {
        "id": "s9LsLY2df4Aw"
      },
      "execution_count": 8,
      "outputs": []
    },
    {
      "cell_type": "markdown",
      "metadata": {
        "id": "jR1iuBVNGXRF"
      },
      "source": [
        "#Clean data"
      ]
    },
    {
      "cell_type": "markdown",
      "source": [
        "Remove % sign from Interest.Rate column"
      ],
      "metadata": {
        "id": "eCb17reHVs4y"
      }
    },
    {
      "cell_type": "code",
      "source": [
        "data[\"Interest.Rate\"] = data[\"Interest.Rate\"].str.replace(\"%\",\"\")"
      ],
      "metadata": {
        "id": "NabGxjflVgZq"
      },
      "execution_count": 9,
      "outputs": []
    },
    {
      "cell_type": "markdown",
      "source": [
        "Remove \"months\" from Loan.Length"
      ],
      "metadata": {
        "id": "fnGyXyCCV8CV"
      }
    },
    {
      "cell_type": "code",
      "source": [
        "data[\"Loan.Length\"] = data[\"Loan.Length\"].str.replace(\" months\",\"\")"
      ],
      "metadata": {
        "id": "UXb3WQY_WBWn"
      },
      "execution_count": 10,
      "outputs": []
    },
    {
      "cell_type": "markdown",
      "source": [
        "Considering only lower limit of FICO.Range\n",
        "\n",
        "> Considering lower credit score of customer provides a less risk for company\n",
        "\n"
      ],
      "metadata": {
        "id": "xXxb1OzdZuDX"
      }
    },
    {
      "cell_type": "code",
      "source": [
        "data['FICO.Range'] = data['FICO.Range'].str.slice(0, 3)"
      ],
      "metadata": {
        "id": "HYQIrWEQZzm6"
      },
      "execution_count": 11,
      "outputs": []
    },
    {
      "cell_type": "markdown",
      "source": [
        "Extract numerical value from Employment.Length"
      ],
      "metadata": {
        "id": "ePAJg48AqGWP"
      }
    },
    {
      "cell_type": "code",
      "source": [
        "data[\"Employment.Length\"] = data[\"Employment.Length\"].str.replace(\"< \",\"\")\n",
        "data['Employment.Length'] = data['Employment.Length'].str.slice(0, 2)\n",
        "data[\"Employment.Length\"] = data[\"Employment.Length\"].str.replace(\" \",\"\")"
      ],
      "metadata": {
        "id": "IoZMETiNqF1H"
      },
      "execution_count": 12,
      "outputs": []
    },
    {
      "cell_type": "markdown",
      "source": [
        "Converting Interest.Rate, Loan.Length, FICO.Range, Monthly.Income to numeric"
      ],
      "metadata": {
        "id": "8u-N18znaExg"
      }
    },
    {
      "cell_type": "code",
      "source": [
        "data['Interest.Rate'] = data['Interest.Rate'].astype(float).astype(int)\n",
        "data['Loan.Length'] = data['Loan.Length'].astype(float).astype(int)\n",
        "data['FICO.Range'] = data['FICO.Range'].astype(float).astype(int)\n",
        "data['Monthly.Income'] = data['Monthly.Income'].astype(int)"
      ],
      "metadata": {
        "id": "GH85BqZuaNC_"
      },
      "execution_count": 13,
      "outputs": []
    },
    {
      "cell_type": "markdown",
      "source": [
        "Convert Employment.Length from object to string to float"
      ],
      "metadata": {
        "id": "QPiVMCfevh-8"
      }
    },
    {
      "cell_type": "code",
      "source": [
        "data['Employment.Length'] = data['Employment.Length'].astype(str).astype(float)"
      ],
      "metadata": {
        "id": "j_YG1nmjrb_c"
      },
      "execution_count": 14,
      "outputs": []
    },
    {
      "cell_type": "markdown",
      "source": [
        "Replace missing values with mean value"
      ],
      "metadata": {
        "id": "FBROwmQbq4Z9"
      }
    },
    {
      "cell_type": "code",
      "source": [
        "data['Employment.Length'].fillna(data['Employment.Length'].mean(), inplace=True)"
      ],
      "metadata": {
        "id": "jGXUKadZrBmg"
      },
      "execution_count": 15,
      "outputs": []
    },
    {
      "cell_type": "markdown",
      "source": [
        "Convert Employment.Length from float to int"
      ],
      "metadata": {
        "id": "CiIMgf4Cvcxu"
      }
    },
    {
      "cell_type": "code",
      "source": [
        "data['Employment.Length'] = data['Employment.Length'].astype(int)"
      ],
      "metadata": {
        "id": "B7Lp_tnYvnYj"
      },
      "execution_count": 16,
      "outputs": []
    },
    {
      "cell_type": "markdown",
      "source": [
        "Remove % sign from Debt.To.Income.Ratio"
      ],
      "metadata": {
        "id": "Z-VQIoUXWgYN"
      }
    },
    {
      "cell_type": "code",
      "source": [
        "data[\"Debt.To.Income.Ratio\"] = data[\"Debt.To.Income.Ratio\"].str.replace(\"%\",\"\")"
      ],
      "metadata": {
        "id": "gcaN1asjWlfx"
      },
      "execution_count": 17,
      "outputs": []
    },
    {
      "cell_type": "markdown",
      "source": [
        "#Encoding for Categorical Data\n",
        "\n",
        "> We will replace all categorical variables with numerical values.\n",
        "\n"
      ],
      "metadata": {
        "id": "ZbgWdlwHzzYA"
      }
    },
    {
      "cell_type": "markdown",
      "source": [
        "Loan.Purpose and Home.Ownership"
      ],
      "metadata": {
        "id": "sTrMp4RK1ghf"
      }
    },
    {
      "cell_type": "code",
      "source": [
        "cleanup_nums = {\"Loan.Purpose\":     {'car': 0, 'credit_card': 1, 'debt_consolidation': 2, 'educational': 3, 'home_improvement': 4, 'house': 5, 'major_purchase': 6, 'medical': 7, 'moving': 8, 'other': 9, 'renewable_energy': 10, 'small_business': 11, 'vacation': 12, 'wedding': 13},\n",
        "                \"Home.Ownership\":     {'MORTGAGE': 0, 'NONE': 1, 'OTHER': 2, 'OWN': 3, 'RENT': 4}}\n",
        "data = data.replace(cleanup_nums)"
      ],
      "metadata": {
        "id": "1Qt52a-is6hD"
      },
      "execution_count": 18,
      "outputs": []
    },
    {
      "cell_type": "markdown",
      "source": [
        "#Let us take a look at the cleaned data"
      ],
      "metadata": {
        "id": "GZmBFu38vvIB"
      }
    },
    {
      "cell_type": "code",
      "source": [
        "data.head()"
      ],
      "metadata": {
        "colab": {
          "base_uri": "https://localhost:8080/",
          "height": 270
        },
        "id": "ppB-pn9mbb4j",
        "outputId": "f4003107-8f09-4700-b396-bf9aa5a0c403"
      },
      "execution_count": 19,
      "outputs": [
        {
          "output_type": "execute_result",
          "data": {
            "text/plain": [
              "   CustID  Amount.Requested  Amount.Funded.By.Investors  Interest.Rate  \\\n",
              "0   81174             20000                     20000.0              8   \n",
              "1   99592             19200                     19200.0             12   \n",
              "2   80059             35000                     35000.0             21   \n",
              "3   15825             10000                      9975.0              9   \n",
              "4   33182             12000                     12000.0             11   \n",
              "\n",
              "   Loan.Length  Loan.Purpose Debt.To.Income.Ratio State  Home.Ownership  \\\n",
              "0           36             2                14.90    SC               0   \n",
              "1           36             2                28.36    TX               0   \n",
              "2           60             2                23.81    CA               0   \n",
              "3           36             2                14.30    KS               0   \n",
              "4           36             1                18.78    NJ               4   \n",
              "\n",
              "   Monthly.Income  FICO.Range  Open.CREDIT.Lines  Revolving.CREDIT.Balance  \\\n",
              "0            6541         735               14.0                   14272.0   \n",
              "1            4583         715               12.0                   11140.0   \n",
              "2           11500         690               14.0                   21977.0   \n",
              "3            3833         695               10.0                    9346.0   \n",
              "4            3195         695               11.0                   14469.0   \n",
              "\n",
              "   Inquiries.in.the.Last.6.Months  Employment.Length  \n",
              "0                             2.0                  1  \n",
              "1                             1.0                  2  \n",
              "2                             1.0                  2  \n",
              "3                             0.0                  5  \n",
              "4                             0.0                  9  "
            ],
            "text/html": [
              "\n",
              "  <div id=\"df-64503219-4577-4458-a4f6-5631f9bc4e84\">\n",
              "    <div class=\"colab-df-container\">\n",
              "      <div>\n",
              "<style scoped>\n",
              "    .dataframe tbody tr th:only-of-type {\n",
              "        vertical-align: middle;\n",
              "    }\n",
              "\n",
              "    .dataframe tbody tr th {\n",
              "        vertical-align: top;\n",
              "    }\n",
              "\n",
              "    .dataframe thead th {\n",
              "        text-align: right;\n",
              "    }\n",
              "</style>\n",
              "<table border=\"1\" class=\"dataframe\">\n",
              "  <thead>\n",
              "    <tr style=\"text-align: right;\">\n",
              "      <th></th>\n",
              "      <th>CustID</th>\n",
              "      <th>Amount.Requested</th>\n",
              "      <th>Amount.Funded.By.Investors</th>\n",
              "      <th>Interest.Rate</th>\n",
              "      <th>Loan.Length</th>\n",
              "      <th>Loan.Purpose</th>\n",
              "      <th>Debt.To.Income.Ratio</th>\n",
              "      <th>State</th>\n",
              "      <th>Home.Ownership</th>\n",
              "      <th>Monthly.Income</th>\n",
              "      <th>FICO.Range</th>\n",
              "      <th>Open.CREDIT.Lines</th>\n",
              "      <th>Revolving.CREDIT.Balance</th>\n",
              "      <th>Inquiries.in.the.Last.6.Months</th>\n",
              "      <th>Employment.Length</th>\n",
              "    </tr>\n",
              "  </thead>\n",
              "  <tbody>\n",
              "    <tr>\n",
              "      <th>0</th>\n",
              "      <td>81174</td>\n",
              "      <td>20000</td>\n",
              "      <td>20000.0</td>\n",
              "      <td>8</td>\n",
              "      <td>36</td>\n",
              "      <td>2</td>\n",
              "      <td>14.90</td>\n",
              "      <td>SC</td>\n",
              "      <td>0</td>\n",
              "      <td>6541</td>\n",
              "      <td>735</td>\n",
              "      <td>14.0</td>\n",
              "      <td>14272.0</td>\n",
              "      <td>2.0</td>\n",
              "      <td>1</td>\n",
              "    </tr>\n",
              "    <tr>\n",
              "      <th>1</th>\n",
              "      <td>99592</td>\n",
              "      <td>19200</td>\n",
              "      <td>19200.0</td>\n",
              "      <td>12</td>\n",
              "      <td>36</td>\n",
              "      <td>2</td>\n",
              "      <td>28.36</td>\n",
              "      <td>TX</td>\n",
              "      <td>0</td>\n",
              "      <td>4583</td>\n",
              "      <td>715</td>\n",
              "      <td>12.0</td>\n",
              "      <td>11140.0</td>\n",
              "      <td>1.0</td>\n",
              "      <td>2</td>\n",
              "    </tr>\n",
              "    <tr>\n",
              "      <th>2</th>\n",
              "      <td>80059</td>\n",
              "      <td>35000</td>\n",
              "      <td>35000.0</td>\n",
              "      <td>21</td>\n",
              "      <td>60</td>\n",
              "      <td>2</td>\n",
              "      <td>23.81</td>\n",
              "      <td>CA</td>\n",
              "      <td>0</td>\n",
              "      <td>11500</td>\n",
              "      <td>690</td>\n",
              "      <td>14.0</td>\n",
              "      <td>21977.0</td>\n",
              "      <td>1.0</td>\n",
              "      <td>2</td>\n",
              "    </tr>\n",
              "    <tr>\n",
              "      <th>3</th>\n",
              "      <td>15825</td>\n",
              "      <td>10000</td>\n",
              "      <td>9975.0</td>\n",
              "      <td>9</td>\n",
              "      <td>36</td>\n",
              "      <td>2</td>\n",
              "      <td>14.30</td>\n",
              "      <td>KS</td>\n",
              "      <td>0</td>\n",
              "      <td>3833</td>\n",
              "      <td>695</td>\n",
              "      <td>10.0</td>\n",
              "      <td>9346.0</td>\n",
              "      <td>0.0</td>\n",
              "      <td>5</td>\n",
              "    </tr>\n",
              "    <tr>\n",
              "      <th>4</th>\n",
              "      <td>33182</td>\n",
              "      <td>12000</td>\n",
              "      <td>12000.0</td>\n",
              "      <td>11</td>\n",
              "      <td>36</td>\n",
              "      <td>1</td>\n",
              "      <td>18.78</td>\n",
              "      <td>NJ</td>\n",
              "      <td>4</td>\n",
              "      <td>3195</td>\n",
              "      <td>695</td>\n",
              "      <td>11.0</td>\n",
              "      <td>14469.0</td>\n",
              "      <td>0.0</td>\n",
              "      <td>9</td>\n",
              "    </tr>\n",
              "  </tbody>\n",
              "</table>\n",
              "</div>\n",
              "      <button class=\"colab-df-convert\" onclick=\"convertToInteractive('df-64503219-4577-4458-a4f6-5631f9bc4e84')\"\n",
              "              title=\"Convert this dataframe to an interactive table.\"\n",
              "              style=\"display:none;\">\n",
              "        \n",
              "  <svg xmlns=\"http://www.w3.org/2000/svg\" height=\"24px\"viewBox=\"0 0 24 24\"\n",
              "       width=\"24px\">\n",
              "    <path d=\"M0 0h24v24H0V0z\" fill=\"none\"/>\n",
              "    <path d=\"M18.56 5.44l.94 2.06.94-2.06 2.06-.94-2.06-.94-.94-2.06-.94 2.06-2.06.94zm-11 1L8.5 8.5l.94-2.06 2.06-.94-2.06-.94L8.5 2.5l-.94 2.06-2.06.94zm10 10l.94 2.06.94-2.06 2.06-.94-2.06-.94-.94-2.06-.94 2.06-2.06.94z\"/><path d=\"M17.41 7.96l-1.37-1.37c-.4-.4-.92-.59-1.43-.59-.52 0-1.04.2-1.43.59L10.3 9.45l-7.72 7.72c-.78.78-.78 2.05 0 2.83L4 21.41c.39.39.9.59 1.41.59.51 0 1.02-.2 1.41-.59l7.78-7.78 2.81-2.81c.8-.78.8-2.07 0-2.86zM5.41 20L4 18.59l7.72-7.72 1.47 1.35L5.41 20z\"/>\n",
              "  </svg>\n",
              "      </button>\n",
              "      \n",
              "  <style>\n",
              "    .colab-df-container {\n",
              "      display:flex;\n",
              "      flex-wrap:wrap;\n",
              "      gap: 12px;\n",
              "    }\n",
              "\n",
              "    .colab-df-convert {\n",
              "      background-color: #E8F0FE;\n",
              "      border: none;\n",
              "      border-radius: 50%;\n",
              "      cursor: pointer;\n",
              "      display: none;\n",
              "      fill: #1967D2;\n",
              "      height: 32px;\n",
              "      padding: 0 0 0 0;\n",
              "      width: 32px;\n",
              "    }\n",
              "\n",
              "    .colab-df-convert:hover {\n",
              "      background-color: #E2EBFA;\n",
              "      box-shadow: 0px 1px 2px rgba(60, 64, 67, 0.3), 0px 1px 3px 1px rgba(60, 64, 67, 0.15);\n",
              "      fill: #174EA6;\n",
              "    }\n",
              "\n",
              "    [theme=dark] .colab-df-convert {\n",
              "      background-color: #3B4455;\n",
              "      fill: #D2E3FC;\n",
              "    }\n",
              "\n",
              "    [theme=dark] .colab-df-convert:hover {\n",
              "      background-color: #434B5C;\n",
              "      box-shadow: 0px 1px 3px 1px rgba(0, 0, 0, 0.15);\n",
              "      filter: drop-shadow(0px 1px 2px rgba(0, 0, 0, 0.3));\n",
              "      fill: #FFFFFF;\n",
              "    }\n",
              "  </style>\n",
              "\n",
              "      <script>\n",
              "        const buttonEl =\n",
              "          document.querySelector('#df-64503219-4577-4458-a4f6-5631f9bc4e84 button.colab-df-convert');\n",
              "        buttonEl.style.display =\n",
              "          google.colab.kernel.accessAllowed ? 'block' : 'none';\n",
              "\n",
              "        async function convertToInteractive(key) {\n",
              "          const element = document.querySelector('#df-64503219-4577-4458-a4f6-5631f9bc4e84');\n",
              "          const dataTable =\n",
              "            await google.colab.kernel.invokeFunction('convertToInteractive',\n",
              "                                                     [key], {});\n",
              "          if (!dataTable) return;\n",
              "\n",
              "          const docLinkHtml = 'Like what you see? Visit the ' +\n",
              "            '<a target=\"_blank\" href=https://colab.research.google.com/notebooks/data_table.ipynb>data table notebook</a>'\n",
              "            + ' to learn more about interactive tables.';\n",
              "          element.innerHTML = '';\n",
              "          dataTable['output_type'] = 'display_data';\n",
              "          await google.colab.output.renderOutput(dataTable, element);\n",
              "          const docLink = document.createElement('div');\n",
              "          docLink.innerHTML = docLinkHtml;\n",
              "          element.appendChild(docLink);\n",
              "        }\n",
              "      </script>\n",
              "    </div>\n",
              "  </div>\n",
              "  "
            ]
          },
          "metadata": {},
          "execution_count": 19
        }
      ]
    },
    {
      "cell_type": "markdown",
      "source": [
        "# Building Model"
      ],
      "metadata": {
        "id": "j_RjN0GK2-pR"
      }
    },
    {
      "cell_type": "markdown",
      "source": [
        "Determing the Independent (predictor) and Dependent (response) variables"
      ],
      "metadata": {
        "id": "CucDM3e53cuJ"
      }
    },
    {
      "cell_type": "code",
      "source": [
        "# X -> features, y -> label\n",
        "X = data.loc[:, ~data.columns.isin(['CustID', 'State', 'Interest.Rate'])]\n",
        "Y = data['Interest.Rate']"
      ],
      "metadata": {
        "id": "fxph6IQ83mDu"
      },
      "execution_count": 20,
      "outputs": []
    },
    {
      "cell_type": "markdown",
      "source": [
        "Load libraries"
      ],
      "metadata": {
        "id": "Z0J8ECAv47bp"
      }
    },
    {
      "cell_type": "code",
      "source": [
        "# importing necessary libraries\n",
        "from sklearn import datasets\n",
        "from sklearn.metrics import confusion_matrix\n",
        "from sklearn.model_selection import train_test_split\n",
        "from sklearn.metrics import matthews_corrcoef\n",
        "from sklearn.metrics import mean_absolute_error"
      ],
      "metadata": {
        "id": "bydBd4gs49WK"
      },
      "execution_count": 21,
      "outputs": []
    },
    {
      "cell_type": "markdown",
      "source": [
        "Split Data"
      ],
      "metadata": {
        "id": "DWTuqZR93BKg"
      }
    },
    {
      "cell_type": "code",
      "source": [
        "# dividing X, y into train and test data\n",
        "X_train, X_test, y_train, y_test = train_test_split(X, Y, random_state = 0)"
      ],
      "metadata": {
        "id": "LV_ElSja41FJ"
      },
      "execution_count": 22,
      "outputs": []
    },
    {
      "cell_type": "markdown",
      "source": [
        "Linear Regression"
      ],
      "metadata": {
        "id": "1cEKFo5BwiCw"
      }
    },
    {
      "cell_type": "code",
      "source": [
        "# training a LinearRegression\n",
        "from sklearn.linear_model import LinearRegression\n",
        "linear_model = LinearRegression()\n",
        "linear_model.fit(X_train, y_train)\n",
        "linear_predictions = linear_model.predict(X_test)\n",
        " \n",
        "# Report how well the model is performing\n",
        "print(\"Model training results:\")\n",
        "\n",
        "# Report an error rate on the training set\n",
        "mse_train = mean_absolute_error(y_train, linear_model.predict(X_train))\n",
        "print(f\" - Training Set Error: {mse_train}\")\n",
        "\n",
        "# Report an error rate on the test set\n",
        "mse_test = mean_absolute_error(y_test, linear_model.predict(X_test))\n",
        "print(f\" - Test Set Error: {mse_test}\")"
      ],
      "metadata": {
        "colab": {
          "base_uri": "https://localhost:8080/"
        },
        "id": "uX44GlfEwhfY",
        "outputId": "6db428d1-b61b-42f1-fd4e-617228934953"
      },
      "execution_count": 23,
      "outputs": [
        {
          "output_type": "stream",
          "name": "stdout",
          "text": [
            "Model training results:\n",
            " - Training Set Error: 1.5984695539578866\n",
            " - Test Set Error: 1.6020132460814795\n"
          ]
        }
      ]
    },
    {
      "cell_type": "markdown",
      "source": [
        "Gradient Boosting Regressor"
      ],
      "metadata": {
        "id": "Kv1LTLphxA4I"
      }
    },
    {
      "cell_type": "code",
      "source": [
        "# training a GradientBoostingRegressor\n",
        "from sklearn.ensemble import GradientBoostingRegressor\n",
        "gbr = GradientBoostingRegressor()\n",
        "gbr.fit(X_train, y_train)\n",
        "gbr_predictions = gbr.predict(X_test)\n",
        " \n",
        "# Report how well the model is performing\n",
        "print(\"Model training results:\")\n",
        "\n",
        "# Report an error rate on the training set\n",
        "mse_train = mean_absolute_error(y_train, gbr.predict(X_train))\n",
        "print(f\" - Training Set Error: {mse_train}\")\n",
        "\n",
        "# Report an error rate on the test set\n",
        "mse_test = mean_absolute_error(y_test, gbr.predict(X_test))\n",
        "print(f\" - Test Set Error: {mse_test}\")"
      ],
      "metadata": {
        "colab": {
          "base_uri": "https://localhost:8080/"
        },
        "id": "pR6QuVjvxEbr",
        "outputId": "d24beafa-9e47-4573-f66d-d6e6a4005a60"
      },
      "execution_count": 24,
      "outputs": [
        {
          "output_type": "stream",
          "name": "stdout",
          "text": [
            "Model training results:\n",
            " - Training Set Error: 1.0849147790241953\n",
            " - Test Set Error: 1.282605986425403\n"
          ]
        }
      ]
    },
    {
      "cell_type": "markdown",
      "source": [
        "Decision Tree Regressor"
      ],
      "metadata": {
        "id": "yPoGsfA45D77"
      }
    },
    {
      "cell_type": "code",
      "source": [
        "# training a DescisionTreeRegressor\n",
        "from sklearn.tree import DecisionTreeRegressor\n",
        "dtree_model = DecisionTreeRegressor(max_depth = 2).fit(X_train, y_train)\n",
        "dtree_predictions = dtree_model.predict(X_test)\n",
        " \n",
        "# Report how well the model is performing\n",
        "print(\"Model training results:\")\n",
        "\n",
        "# Report an error rate on the training set\n",
        "mse_train = mean_absolute_error(y_train, dtree_model.predict(X_train))\n",
        "print(f\" - Training Set Error: {mse_train}\")\n",
        "\n",
        "# Report an error rate on the test set\n",
        "mse_test = mean_absolute_error(y_test, dtree_model.predict(X_test))\n",
        "print(f\" - Test Set Error: {mse_test}\")"
      ],
      "metadata": {
        "colab": {
          "base_uri": "https://localhost:8080/"
        },
        "id": "RrGobDMy5Gi-",
        "outputId": "2c309746-6c17-4ef9-a7d3-cc07e79c2f45"
      },
      "execution_count": 25,
      "outputs": [
        {
          "output_type": "stream",
          "name": "stdout",
          "text": [
            "Model training results:\n",
            " - Training Set Error: 2.161516626911835\n",
            " - Test Set Error: 2.194016875747028\n"
          ]
        }
      ]
    },
    {
      "cell_type": "markdown",
      "source": [
        "Stochastic Gradient Descent (SGD) Regressor "
      ],
      "metadata": {
        "id": "6YRUkDXS5RN7"
      }
    },
    {
      "cell_type": "code",
      "source": [
        "# training a linear SGD Regressor\n",
        "from sklearn.linear_model import SGDRegressor\n",
        "sgd_model = SGDRegressor(random_state = 0).fit(X_train, y_train)\n",
        "sgd_predictions = sgd_model.predict(X_test)\n",
        " \n",
        "# Report how well the model is performing\n",
        "print(\"Model training results:\")\n",
        "\n",
        "# Report an error rate on the training set\n",
        "mse_train = mean_absolute_error(y_train, sgd_model.predict(X_train))\n",
        "print(f\" - Training Set Error: {mse_train}\")\n",
        "\n",
        "# Report an error rate on the test set\n",
        "mse_test = mean_absolute_error(y_test, sgd_model.predict(X_test))\n",
        "print(f\" - Test Set Error: {mse_test}\")"
      ],
      "metadata": {
        "colab": {
          "base_uri": "https://localhost:8080/"
        },
        "id": "RbEab-8x5Uby",
        "outputId": "5b91a5b9-55ea-44ce-865d-de1540b21e30"
      },
      "execution_count": 26,
      "outputs": [
        {
          "output_type": "stream",
          "name": "stdout",
          "text": [
            "Model training results:\n",
            " - Training Set Error: 5.362814158302556e+17\n",
            " - Test Set Error: 5.558748063523624e+17\n"
          ]
        }
      ]
    },
    {
      "cell_type": "markdown",
      "source": [
        "K-nearest neighbors (KNN) Regressor"
      ],
      "metadata": {
        "id": "vPvKzZFy5bpr"
      }
    },
    {
      "cell_type": "code",
      "source": [
        "# training a KNN Regressor\n",
        "from sklearn.neighbors import KNeighborsRegressor\n",
        "knn = KNeighborsRegressor(n_neighbors = 7).fit(X_train, y_train)\n",
        " \n",
        "# Report how well the model is performing\n",
        "print(\"Model training results:\")\n",
        "\n",
        "# Report an error rate on the training set\n",
        "mse_train = mean_absolute_error(y_train, knn.predict(X_train))\n",
        "print(f\" - Training Set Error: {mse_train}\")\n",
        "\n",
        "# Report an error rate on the test set\n",
        "mse_test = mean_absolute_error(y_test, knn.predict(X_test))\n",
        "print(f\" - Test Set Error: {mse_test}\")"
      ],
      "metadata": {
        "colab": {
          "base_uri": "https://localhost:8080/"
        },
        "id": "ahquKAcD5gka",
        "outputId": "e0d045ce-48e1-44bb-9590-932002f20eeb"
      },
      "execution_count": 27,
      "outputs": [
        {
          "output_type": "stream",
          "name": "stdout",
          "text": [
            "Model training results:\n",
            " - Training Set Error: 2.894704761904762\n",
            " - Test Set Error: 3.230628571428571\n"
          ]
        }
      ]
    },
    {
      "cell_type": "markdown",
      "source": [
        "##Conclusion"
      ],
      "metadata": {
        "id": "5NhIjWS9A3LN"
      }
    },
    {
      "cell_type": "markdown",
      "source": [
        "Mean Squared Error, or MSE for short, is a popular error metric for regression problems.\n",
        "\n",
        "It is also an important loss function for algorithms fit or optimized using the least squares framing of a regression problem. Here “least squares” refers to minimizing the mean squared error between predictions and expected values.\n",
        "\n",
        "The MSE is calculated as the mean or average of the squared differences between predicted and expected target values in a dataset.\n",
        "\n",
        "MSE = 1 / N * sum for i to N (y_i – yhat_i)^2\n",
        "Where y_i is the i’th expected value in the dataset and yhat_i is the i’th predicted value. The difference between these two values is squared, which has the effect of removing the sign, resulting in a positive error value.\n",
        "\n",
        "The squaring also has the effect of inflating or magnifying large errors. That is, the larger the difference between the predicted and expected values, the larger the resulting squared positive error. This has the effect of “punishing” models more for larger errors when MSE is used as a loss function. It also has the effect of “punishing” models by inflating the average error score when used as a metric."
      ],
      "metadata": {
        "id": "xeGgRmUFBShx"
      }
    },
    {
      "cell_type": "markdown",
      "source": [
        "![image.png](data:image/png;base64,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)"
      ],
      "metadata": {
        "id": "c0JIc9qRA6Ai"
      }
    },
    {
      "cell_type": "markdown",
      "source": [
        "Gradient Boosting Regressor has the least MSE implying it is the best suited regression algorithm for the given data followed closely by Linear Regression Model.\n",
        "Stochastic Gradient Descent, on the other hand has the highest MSE value."
      ],
      "metadata": {
        "id": "gDSM5zucBD9F"
      }
    },
    {
      "cell_type": "markdown",
      "source": [
        "##Pickle Model"
      ],
      "metadata": {
        "id": "iOjLZ9rIjukW"
      }
    },
    {
      "cell_type": "code",
      "source": [
        "# install package\n",
        "!pip install joblib"
      ],
      "metadata": {
        "colab": {
          "base_uri": "https://localhost:8080/"
        },
        "id": "QbYigp02lT0B",
        "outputId": "1a2665ec-e57a-4bbd-d42a-dd1089a5621f"
      },
      "execution_count": 28,
      "outputs": [
        {
          "output_type": "stream",
          "name": "stdout",
          "text": [
            "Looking in indexes: https://pypi.org/simple, https://us-python.pkg.dev/colab-wheels/public/simple/\n",
            "Requirement already satisfied: joblib in /usr/local/lib/python3.7/dist-packages (1.1.0)\n"
          ]
        }
      ]
    },
    {
      "cell_type": "code",
      "source": [
        "import joblib\n",
        "# Save the trained model to a file so we can use it to make predictions later\n",
        "joblib.dump(gbr, 'gboost.pkl')"
      ],
      "metadata": {
        "colab": {
          "base_uri": "https://localhost:8080/"
        },
        "id": "VMlk0pvgjxrG",
        "outputId": "5d5fc695-f005-46bb-d906-b7d548cb139e"
      },
      "execution_count": 29,
      "outputs": [
        {
          "output_type": "execute_result",
          "data": {
            "text/plain": [
              "['gboost.pkl']"
            ]
          },
          "metadata": {},
          "execution_count": 29
        }
      ]
    },
    {
      "cell_type": "markdown",
      "source": [
        "##Let's start building the Web API"
      ],
      "metadata": {
        "id": "w2naXgdOqPnr"
      }
    },
    {
      "cell_type": "markdown",
      "source": [
        "Import libraries"
      ],
      "metadata": {
        "id": "nz36rrj9qT8G"
      }
    },
    {
      "cell_type": "code",
      "source": [
        "!pip install streamlit\n",
        "!pip install pyngrok===4.1.1\n",
        "!pip install plotly\n",
        "!pip install icd10-cm\n",
        "!pip install scikit-learn\n",
        "!pip install bz2file\n",
        "from pyngrok import ngrok"
      ],
      "metadata": {
        "colab": {
          "base_uri": "https://localhost:8080/"
        },
        "id": "VDEhzM6hqWSY",
        "outputId": "36217639-32e9-41c6-e31a-6ddcaf6ed83a"
      },
      "execution_count": 31,
      "outputs": [
        {
          "output_type": "stream",
          "name": "stdout",
          "text": [
            "Looking in indexes: https://pypi.org/simple, https://us-python.pkg.dev/colab-wheels/public/simple/\n",
            "Requirement already satisfied: streamlit in /usr/local/lib/python3.7/dist-packages (1.10.0)\n",
            "Requirement already satisfied: watchdog in /usr/local/lib/python3.7/dist-packages (from streamlit) (2.1.9)\n",
            "Requirement already satisfied: click>=7.0 in /usr/local/lib/python3.7/dist-packages (from streamlit) (7.1.2)\n",
            "Requirement already satisfied: gitpython!=3.1.19 in /usr/local/lib/python3.7/dist-packages (from streamlit) (3.1.27)\n",
            "Requirement already satisfied: typing-extensions in /usr/local/lib/python3.7/dist-packages (from streamlit) (4.2.0)\n",
            "Requirement already satisfied: altair>=3.2.0 in /usr/local/lib/python3.7/dist-packages (from streamlit) (4.2.0)\n",
            "Requirement already satisfied: attrs in /usr/local/lib/python3.7/dist-packages (from streamlit) (21.4.0)\n",
            "Requirement already satisfied: importlib-metadata>=1.4 in /usr/local/lib/python3.7/dist-packages (from streamlit) (4.11.4)\n",
            "Requirement already satisfied: pandas>=0.21.0 in /usr/local/lib/python3.7/dist-packages (from streamlit) (1.3.5)\n",
            "Requirement already satisfied: blinker in /usr/local/lib/python3.7/dist-packages (from streamlit) (1.4)\n",
            "Requirement already satisfied: pyarrow in /usr/local/lib/python3.7/dist-packages (from streamlit) (6.0.1)\n",
            "Requirement already satisfied: tzlocal in /usr/local/lib/python3.7/dist-packages (from streamlit) (1.5.1)\n",
            "Requirement already satisfied: pympler>=0.9 in /usr/local/lib/python3.7/dist-packages (from streamlit) (1.0.1)\n",
            "Requirement already satisfied: cachetools>=4.0 in /usr/local/lib/python3.7/dist-packages (from streamlit) (4.2.4)\n",
            "Requirement already satisfied: pillow>=6.2.0 in /usr/local/lib/python3.7/dist-packages (from streamlit) (7.1.2)\n",
            "Requirement already satisfied: toml in /usr/local/lib/python3.7/dist-packages (from streamlit) (0.10.2)\n",
            "Requirement already satisfied: requests in /usr/local/lib/python3.7/dist-packages (from streamlit) (2.23.0)\n",
            "Requirement already satisfied: pydeck>=0.1.dev5 in /usr/local/lib/python3.7/dist-packages (from streamlit) (0.7.1)\n",
            "Requirement already satisfied: protobuf<4,>=3.12 in /usr/local/lib/python3.7/dist-packages (from streamlit) (3.17.3)\n",
            "Requirement already satisfied: rich in /usr/local/lib/python3.7/dist-packages (from streamlit) (12.4.4)\n",
            "Requirement already satisfied: packaging in /usr/local/lib/python3.7/dist-packages (from streamlit) (21.3)\n",
            "Requirement already satisfied: semver in /usr/local/lib/python3.7/dist-packages (from streamlit) (2.13.0)\n",
            "Requirement already satisfied: numpy in /usr/local/lib/python3.7/dist-packages (from streamlit) (1.21.6)\n",
            "Requirement already satisfied: tornado>=5.0 in /usr/local/lib/python3.7/dist-packages (from streamlit) (6.1)\n",
            "Requirement already satisfied: validators in /usr/local/lib/python3.7/dist-packages (from streamlit) (0.20.0)\n",
            "Requirement already satisfied: python-dateutil in /usr/local/lib/python3.7/dist-packages (from streamlit) (2.8.2)\n",
            "Requirement already satisfied: toolz in /usr/local/lib/python3.7/dist-packages (from altair>=3.2.0->streamlit) (0.11.2)\n",
            "Requirement already satisfied: jinja2 in /usr/local/lib/python3.7/dist-packages (from altair>=3.2.0->streamlit) (2.11.3)\n",
            "Requirement already satisfied: entrypoints in /usr/local/lib/python3.7/dist-packages (from altair>=3.2.0->streamlit) (0.4)\n",
            "Requirement already satisfied: jsonschema>=3.0 in /usr/local/lib/python3.7/dist-packages (from altair>=3.2.0->streamlit) (4.3.3)\n",
            "Requirement already satisfied: gitdb<5,>=4.0.1 in /usr/local/lib/python3.7/dist-packages (from gitpython!=3.1.19->streamlit) (4.0.9)\n",
            "Requirement already satisfied: smmap<6,>=3.0.1 in /usr/local/lib/python3.7/dist-packages (from gitdb<5,>=4.0.1->gitpython!=3.1.19->streamlit) (5.0.0)\n",
            "Requirement already satisfied: zipp>=0.5 in /usr/local/lib/python3.7/dist-packages (from importlib-metadata>=1.4->streamlit) (3.8.0)\n",
            "Requirement already satisfied: pyrsistent!=0.17.0,!=0.17.1,!=0.17.2,>=0.14.0 in /usr/local/lib/python3.7/dist-packages (from jsonschema>=3.0->altair>=3.2.0->streamlit) (0.18.1)\n",
            "Requirement already satisfied: importlib-resources>=1.4.0 in /usr/local/lib/python3.7/dist-packages (from jsonschema>=3.0->altair>=3.2.0->streamlit) (5.7.1)\n",
            "Requirement already satisfied: pytz>=2017.3 in /usr/local/lib/python3.7/dist-packages (from pandas>=0.21.0->streamlit) (2022.1)\n",
            "Requirement already satisfied: six>=1.9 in /usr/local/lib/python3.7/dist-packages (from protobuf<4,>=3.12->streamlit) (1.15.0)\n",
            "Requirement already satisfied: traitlets>=4.3.2 in /usr/local/lib/python3.7/dist-packages (from pydeck>=0.1.dev5->streamlit) (5.1.1)\n",
            "Requirement already satisfied: ipykernel>=5.1.2 in /usr/local/lib/python3.7/dist-packages (from pydeck>=0.1.dev5->streamlit) (6.13.1)\n",
            "Requirement already satisfied: ipywidgets>=7.0.0 in /usr/local/lib/python3.7/dist-packages (from pydeck>=0.1.dev5->streamlit) (7.7.0)\n",
            "Requirement already satisfied: nest-asyncio in /usr/local/lib/python3.7/dist-packages (from ipykernel>=5.1.2->pydeck>=0.1.dev5->streamlit) (1.5.5)\n",
            "Requirement already satisfied: matplotlib-inline>=0.1 in /usr/local/lib/python3.7/dist-packages (from ipykernel>=5.1.2->pydeck>=0.1.dev5->streamlit) (0.1.3)\n",
            "Requirement already satisfied: jupyter-client>=6.1.12 in /usr/local/lib/python3.7/dist-packages (from ipykernel>=5.1.2->pydeck>=0.1.dev5->streamlit) (7.3.4)\n",
            "Requirement already satisfied: ipython>=7.23.1 in /usr/local/lib/python3.7/dist-packages (from ipykernel>=5.1.2->pydeck>=0.1.dev5->streamlit) (7.34.0)\n",
            "Requirement already satisfied: psutil in /usr/local/lib/python3.7/dist-packages (from ipykernel>=5.1.2->pydeck>=0.1.dev5->streamlit) (5.4.8)\n",
            "Requirement already satisfied: debugpy>=1.0 in /usr/local/lib/python3.7/dist-packages (from ipykernel>=5.1.2->pydeck>=0.1.dev5->streamlit) (1.0.0)\n",
            "Requirement already satisfied: prompt-toolkit!=3.0.0,!=3.0.1,<3.1.0,>=2.0.0 in /usr/local/lib/python3.7/dist-packages (from ipython>=7.23.1->ipykernel>=5.1.2->pydeck>=0.1.dev5->streamlit) (3.0.29)\n",
            "Requirement already satisfied: pexpect>4.3 in /usr/local/lib/python3.7/dist-packages (from ipython>=7.23.1->ipykernel>=5.1.2->pydeck>=0.1.dev5->streamlit) (4.8.0)\n",
            "Requirement already satisfied: pickleshare in /usr/local/lib/python3.7/dist-packages (from ipython>=7.23.1->ipykernel>=5.1.2->pydeck>=0.1.dev5->streamlit) (0.7.5)\n",
            "Requirement already satisfied: setuptools>=18.5 in /usr/local/lib/python3.7/dist-packages (from ipython>=7.23.1->ipykernel>=5.1.2->pydeck>=0.1.dev5->streamlit) (57.4.0)\n",
            "Requirement already satisfied: backcall in /usr/local/lib/python3.7/dist-packages (from ipython>=7.23.1->ipykernel>=5.1.2->pydeck>=0.1.dev5->streamlit) (0.2.0)\n",
            "Requirement already satisfied: jedi>=0.16 in /usr/local/lib/python3.7/dist-packages (from ipython>=7.23.1->ipykernel>=5.1.2->pydeck>=0.1.dev5->streamlit) (0.18.1)\n",
            "Requirement already satisfied: pygments in /usr/local/lib/python3.7/dist-packages (from ipython>=7.23.1->ipykernel>=5.1.2->pydeck>=0.1.dev5->streamlit) (2.6.1)\n",
            "Requirement already satisfied: decorator in /usr/local/lib/python3.7/dist-packages (from ipython>=7.23.1->ipykernel>=5.1.2->pydeck>=0.1.dev5->streamlit) (4.4.2)\n",
            "Requirement already satisfied: ipython-genutils~=0.2.0 in /usr/local/lib/python3.7/dist-packages (from ipywidgets>=7.0.0->pydeck>=0.1.dev5->streamlit) (0.2.0)\n",
            "Requirement already satisfied: jupyterlab-widgets>=1.0.0 in /usr/local/lib/python3.7/dist-packages (from ipywidgets>=7.0.0->pydeck>=0.1.dev5->streamlit) (1.1.0)\n",
            "Requirement already satisfied: nbformat>=4.2.0 in /usr/local/lib/python3.7/dist-packages (from ipywidgets>=7.0.0->pydeck>=0.1.dev5->streamlit) (5.4.0)\n",
            "Requirement already satisfied: widgetsnbextension~=3.6.0 in /usr/local/lib/python3.7/dist-packages (from ipywidgets>=7.0.0->pydeck>=0.1.dev5->streamlit) (3.6.0)\n",
            "Requirement already satisfied: parso<0.9.0,>=0.8.0 in /usr/local/lib/python3.7/dist-packages (from jedi>=0.16->ipython>=7.23.1->ipykernel>=5.1.2->pydeck>=0.1.dev5->streamlit) (0.8.3)\n",
            "Requirement already satisfied: MarkupSafe>=0.23 in /usr/local/lib/python3.7/dist-packages (from jinja2->altair>=3.2.0->streamlit) (2.0.1)\n",
            "Requirement already satisfied: pyzmq>=23.0 in /usr/local/lib/python3.7/dist-packages (from jupyter-client>=6.1.12->ipykernel>=5.1.2->pydeck>=0.1.dev5->streamlit) (23.0.0)\n",
            "Requirement already satisfied: jupyter-core>=4.9.2 in /usr/local/lib/python3.7/dist-packages (from jupyter-client>=6.1.12->ipykernel>=5.1.2->pydeck>=0.1.dev5->streamlit) (4.10.0)\n",
            "Requirement already satisfied: fastjsonschema in /usr/local/lib/python3.7/dist-packages (from nbformat>=4.2.0->ipywidgets>=7.0.0->pydeck>=0.1.dev5->streamlit) (2.15.3)\n",
            "Requirement already satisfied: ptyprocess>=0.5 in /usr/local/lib/python3.7/dist-packages (from pexpect>4.3->ipython>=7.23.1->ipykernel>=5.1.2->pydeck>=0.1.dev5->streamlit) (0.7.0)\n",
            "Requirement already satisfied: wcwidth in /usr/local/lib/python3.7/dist-packages (from prompt-toolkit!=3.0.0,!=3.0.1,<3.1.0,>=2.0.0->ipython>=7.23.1->ipykernel>=5.1.2->pydeck>=0.1.dev5->streamlit) (0.2.5)\n",
            "Requirement already satisfied: notebook>=4.4.1 in /usr/local/lib/python3.7/dist-packages (from widgetsnbextension~=3.6.0->ipywidgets>=7.0.0->pydeck>=0.1.dev5->streamlit) (5.3.1)\n",
            "Requirement already satisfied: nbconvert in /usr/local/lib/python3.7/dist-packages (from notebook>=4.4.1->widgetsnbextension~=3.6.0->ipywidgets>=7.0.0->pydeck>=0.1.dev5->streamlit) (5.6.1)\n",
            "Requirement already satisfied: terminado>=0.8.1 in /usr/local/lib/python3.7/dist-packages (from notebook>=4.4.1->widgetsnbextension~=3.6.0->ipywidgets>=7.0.0->pydeck>=0.1.dev5->streamlit) (0.13.3)\n",
            "Requirement already satisfied: Send2Trash in /usr/local/lib/python3.7/dist-packages (from notebook>=4.4.1->widgetsnbextension~=3.6.0->ipywidgets>=7.0.0->pydeck>=0.1.dev5->streamlit) (1.8.0)\n",
            "Requirement already satisfied: defusedxml in /usr/local/lib/python3.7/dist-packages (from nbconvert->notebook>=4.4.1->widgetsnbextension~=3.6.0->ipywidgets>=7.0.0->pydeck>=0.1.dev5->streamlit) (0.7.1)\n",
            "Requirement already satisfied: bleach in /usr/local/lib/python3.7/dist-packages (from nbconvert->notebook>=4.4.1->widgetsnbextension~=3.6.0->ipywidgets>=7.0.0->pydeck>=0.1.dev5->streamlit) (5.0.0)\n",
            "Requirement already satisfied: mistune<2,>=0.8.1 in /usr/local/lib/python3.7/dist-packages (from nbconvert->notebook>=4.4.1->widgetsnbextension~=3.6.0->ipywidgets>=7.0.0->pydeck>=0.1.dev5->streamlit) (0.8.4)\n",
            "Requirement already satisfied: pandocfilters>=1.4.1 in /usr/local/lib/python3.7/dist-packages (from nbconvert->notebook>=4.4.1->widgetsnbextension~=3.6.0->ipywidgets>=7.0.0->pydeck>=0.1.dev5->streamlit) (1.5.0)\n",
            "Requirement already satisfied: testpath in /usr/local/lib/python3.7/dist-packages (from nbconvert->notebook>=4.4.1->widgetsnbextension~=3.6.0->ipywidgets>=7.0.0->pydeck>=0.1.dev5->streamlit) (0.6.0)\n",
            "Requirement already satisfied: webencodings in /usr/local/lib/python3.7/dist-packages (from bleach->nbconvert->notebook>=4.4.1->widgetsnbextension~=3.6.0->ipywidgets>=7.0.0->pydeck>=0.1.dev5->streamlit) (0.5.1)\n",
            "Requirement already satisfied: pyparsing!=3.0.5,>=2.0.2 in /usr/local/lib/python3.7/dist-packages (from packaging->streamlit) (3.0.9)\n",
            "Requirement already satisfied: chardet<4,>=3.0.2 in /usr/local/lib/python3.7/dist-packages (from requests->streamlit) (3.0.4)\n",
            "Requirement already satisfied: certifi>=2017.4.17 in /usr/local/lib/python3.7/dist-packages (from requests->streamlit) (2022.5.18.1)\n",
            "Requirement already satisfied: idna<3,>=2.5 in /usr/local/lib/python3.7/dist-packages (from requests->streamlit) (2.10)\n",
            "Requirement already satisfied: urllib3!=1.25.0,!=1.25.1,<1.26,>=1.21.1 in /usr/local/lib/python3.7/dist-packages (from requests->streamlit) (1.24.3)\n",
            "Requirement already satisfied: commonmark<0.10.0,>=0.9.0 in /usr/local/lib/python3.7/dist-packages (from rich->streamlit) (0.9.1)\n",
            "Looking in indexes: https://pypi.org/simple, https://us-python.pkg.dev/colab-wheels/public/simple/\n",
            "Requirement already satisfied: pyngrok===4.1.1 in /usr/local/lib/python3.7/dist-packages (4.1.1)\n",
            "Requirement already satisfied: PyYAML in /usr/local/lib/python3.7/dist-packages (from pyngrok===4.1.1) (3.13)\n",
            "Requirement already satisfied: future in /usr/local/lib/python3.7/dist-packages (from pyngrok===4.1.1) (0.16.0)\n",
            "Looking in indexes: https://pypi.org/simple, https://us-python.pkg.dev/colab-wheels/public/simple/\n",
            "Requirement already satisfied: plotly in /usr/local/lib/python3.7/dist-packages (5.5.0)\n",
            "Requirement already satisfied: six in /usr/local/lib/python3.7/dist-packages (from plotly) (1.15.0)\n",
            "Requirement already satisfied: tenacity>=6.2.0 in /usr/local/lib/python3.7/dist-packages (from plotly) (8.0.1)\n",
            "Looking in indexes: https://pypi.org/simple, https://us-python.pkg.dev/colab-wheels/public/simple/\n",
            "Requirement already satisfied: icd10-cm in /usr/local/lib/python3.7/dist-packages (0.0.4)\n",
            "Looking in indexes: https://pypi.org/simple, https://us-python.pkg.dev/colab-wheels/public/simple/\n",
            "Requirement already satisfied: scikit-learn in /usr/local/lib/python3.7/dist-packages (1.0.2)\n",
            "Requirement already satisfied: scipy>=1.1.0 in /usr/local/lib/python3.7/dist-packages (from scikit-learn) (1.4.1)\n",
            "Requirement already satisfied: threadpoolctl>=2.0.0 in /usr/local/lib/python3.7/dist-packages (from scikit-learn) (3.1.0)\n",
            "Requirement already satisfied: joblib>=0.11 in /usr/local/lib/python3.7/dist-packages (from scikit-learn) (1.1.0)\n",
            "Requirement already satisfied: numpy>=1.14.6 in /usr/local/lib/python3.7/dist-packages (from scikit-learn) (1.21.6)\n",
            "Looking in indexes: https://pypi.org/simple, https://us-python.pkg.dev/colab-wheels/public/simple/\n",
            "Requirement already satisfied: bz2file in /usr/local/lib/python3.7/dist-packages (0.98)\n"
          ]
        }
      ]
    },
    {
      "cell_type": "markdown",
      "source": [
        "Building the front-end"
      ],
      "metadata": {
        "id": "LARXvYMYqb-0"
      }
    },
    {
      "cell_type": "code",
      "source": [
        "%%writefile loanapp.py\n",
        "import streamlit as st\n",
        "import sklearn\n",
        "import pandas as pd\n",
        "import numpy as np\n",
        "import pickle\n",
        "from dateutil.relativedelta import relativedelta\n",
        "from sklearn.preprocessing import LabelEncoder\n",
        "import joblib\n",
        "\n",
        "st.set_page_config(page_title=\"Loan Interest Prediction App\",page_icon=\"💲\",layout=\"centered\",initial_sidebar_state=\"expanded\")\n",
        "\n",
        "st.sidebar.header('User Input Parameters')\n",
        "   \n",
        "    # front end elements of the web page \n",
        "html_temp = \"\"\" \n",
        "    <div style =\"background-color:light blue;padding:13px\"> \n",
        "    <h1 style =\"color:pink;text-align:center;\">Loan Interest Prediction App\"</h1> \n",
        "    </div> \n",
        "    \"\"\"\n",
        "      \n",
        "# display the front end aspect\n",
        "st.markdown(html_temp, unsafe_allow_html = True) \n",
        "st.subheader('by Manusree Banerjee')\n",
        "      \n",
        "# following lines create boxes in which user can enter data required to make prediction\n",
        "custid=st.sidebar.text_input(\"Customer ID\")\n",
        "amt_reqstd = st.sidebar.number_input('Amount requested (in $)', min_value=0, max_value=50000, step=1)\n",
        "amt_fund = st.sidebar.number_input('Amount funded by investors (in $)', min_value=0, max_value=50000, step=1)\n",
        "loan_len = st.sidebar.slider('Loan length (in months)', min_value=0, max_value=30)\n",
        "loan_purp = st.sidebar.selectbox('Loan purpose', ('Car', 'Credit card', 'Debt consolidation', 'Educational', 'Home improvement', 'House', 'Major purchase', 'Medical', 'Moving', 'Renewable energy', 'Small business', 'Vacation',  'Wedding',  'Other'))\n",
        "debt_inc_ratio = st.sidebar.slider('Debt to income ratio', min_value=0, max_value=40)\n",
        "hom_own = st.sidebar.selectbox('Home ownership', ('MORTGAGE', 'RENT', 'OWN', 'OTHER', 'NONE'))\n",
        "mon_inc = st.sidebar.number_input('Monthly income (in $)')\n",
        "fico = st.sidebar.slider('FICO score', min_value=350, max_value=850)\n",
        "cred_line = st.sidebar.slider('Open credit lines', min_value=0, max_value=40)\n",
        "cred_bal = st.sidebar.number_input('Revolving credit balance (in $)')\n",
        "inq_6_mont = st.sidebar.slider('Inquiries in last 6 months', min_value=0, max_value=15)\n",
        "emp_len = st.sidebar.selectbox('Employment length in years', ('<1', '2', '3', '4', '5', '6', '7', '8', '9', '>10', 'na'))\n",
        "\n",
        "\n",
        "\n",
        "# Assign value to Loan Purpose\n",
        "purp_dict = {'Car': 0, 'Credit card': 1, 'Debt consolidation': 2, 'Educational': 3, 'Home improvement': 4, 'House': 5, 'Major purchase': 6, 'Medical': 7, 'Moving': 8, 'Other': 9, 'Renewable energy': 10, 'Small business': 11, 'Vacation': 12, 'Wedding': 13}\n",
        "# Get value from the dictionary\n",
        "purpose = purp_dict.get(loan_purp)\n",
        "\n",
        "# Assign value to  Home Ownership\n",
        "homeown_dict = {'MORTGAGE': 0, 'NONE': 1, 'OTHER': 2, 'OWN': 3, 'RENT': 4}\n",
        "# Get value from the dictionary\n",
        "ownership = homeown_dict.get(hom_own)\n",
        "\n",
        "# Convert Employment length to whole number\n",
        "if emp_len =='<1':\n",
        "  emp_len=1\n",
        "elif emp_len == '>10':\n",
        "  emp_len=10\n",
        "else :\n",
        "  emp_len=emp_len\n",
        "\n",
        "if st.button(\"PREDICT\"):\n",
        "    user_input=[[amt_reqstd,amt_fund,loan_len,purpose,debt_inc_ratio,ownership,mon_inc,fico,cred_line,cred_bal,inq_6_mont,emp_len]]\n",
        "    #load the model from disk\n",
        "    loaded_model = joblib.load(\"gboost.pkl\")\n",
        "    int_rate = loaded_model.predict(user_input) \n",
        "    st.write(\"Interest Rate assigned is \",round(int_rate[0],2),\" % per annum.\")\n",
        "\n",
        "\n",
        "st.info(\"Don't forget to rate this app\")\n",
        "  \n",
        "feedback = st.slider('How much would you rate this app?',min_value=0,max_value=5,step=1)\n",
        "  \n",
        "if feedback:\n",
        "    st.header(\"Thank you for rating the app!\")\n",
        "\n",
        "\n",
        "st.subheader(\"About App\")\n",
        "\n",
        "st.info(\"This web app helps you to calculate interest rate on loan based on a customer's background.\")\n",
        "st.info(\"Enter the required fields and click on the 'PREDICT' button to calculate interest rate.\")\n",
        "\n",
        "\n",
        "st.caption(\"Caution: This is just a prediction and may not be exact.\")\n"
      ],
      "metadata": {
        "colab": {
          "base_uri": "https://localhost:8080/"
        },
        "id": "ba54U51UqSPR",
        "outputId": "058095f1-d8cb-44eb-d6fb-90bea0797452"
      },
      "execution_count": 32,
      "outputs": [
        {
          "output_type": "stream",
          "name": "stdout",
          "text": [
            "Writing loanapp.py\n"
          ]
        }
      ]
    }
  ]
}